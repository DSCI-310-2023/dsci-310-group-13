{
 "cells": [
  {
   "cell_type": "markdown",
   "id": "575095a9-5392-428e-a91c-60874cd452f1",
   "metadata": {},
   "source": [
    "# Predicting Youtube View Count in 2007/2008"
   ]
  },
  {
   "cell_type": "markdown",
   "id": "29ee3e0f-c2fe-4b60-928f-189ab2df2438",
   "metadata": {},
   "source": [
    "### Introduction\n",
    "\n",
    "After being acquired by Google in 2006, Youtube obtained a rapid growth in popularity resulting in a growing community. The goal of this project is to use the data of 2007 to predict the view of videos in 2008. We will be using datasets from https://netsg.cs.sfu.ca/youtubedata/. The dataset uses a crawler to obtained video API and scrape the webpage for the remaining information.\n"
   ]
  },
  {
   "cell_type": "code",
   "execution_count": null,
   "id": "251d7f5d-4270-40bf-aedc-dda171cbdf45",
   "metadata": {},
   "outputs": [],
   "source": [
    "## TODO\n",
    "-explain variables\n",
    "-variable selection\n"
   ]
  },
  {
   "cell_type": "markdown",
   "id": "27a3669b-363f-4978-9194-508b43271bd6",
   "metadata": {},
   "source": [
    "### Methods"
   ]
  },
  {
   "cell_type": "code",
   "execution_count": null,
   "id": "7a44736e-48ad-44e1-a881-33afab3d98a0",
   "metadata": {},
   "outputs": [],
   "source": [
    "# Setup\n",
    "library(tidyverse)"
   ]
  },
  {
   "cell_type": "code",
   "execution_count": null,
   "id": "2727004f-7afd-483a-ad7f-f8e9c84d6d8e",
   "metadata": {},
   "outputs": [],
   "source": [
    "## Loading Table 0\n",
    "table0 <- read.delim(\"0.txt\", header = FALSE, sep = \"\\t\", dec = \".\")\n",
    "head(table0)\n",
    "\n",
    "table0done <- table0[-c(1,2,3,4,10:29)]\n",
    "head(table0done)\n",
    "colnames(table0done) <- c(\"length\",\"views\",\"rate\",\"ratings\",\"comments\")\n",
    "head(table0done)\n",
    "\n",
    "## Loading Table 1\n",
    "table1 <- read.delim(\"1.txt\", header = FALSE, sep = \"\\t\", dec = \".\")\n",
    "head(table1)\n",
    "\n",
    "table1done <- table1[-c(1,2,3,4,10:29)]\n",
    "head(table1done)\n",
    "colnames(table1done) <- c(\"length\",\"views\",\"rate\",\"ratings\",\"comments\")\n",
    "head(table1done)\n",
    "\n",
    "## Loading Table 2\n",
    "table2 <- read.delim(\"2.txt\", header = FALSE, sep = \"\\t\", dec = \".\")\n",
    "head(table2)\n",
    "\n",
    "table2done <- table2[-c(1,2,3,4,10:29)]\n",
    "head(table2done)\n",
    "colnames(table2done) <- c(\"length\",\"views\",\"rate\",\"ratings\",\"comments\")\n",
    "head(table2done)\n",
    "\n",
    "## Loading Table 3\n",
    "table3 <- read.delim(\"3.txt\", header = FALSE, sep = \"\\t\", dec = \".\")\n",
    "head(table3)\n",
    "\n",
    "table3done <- table3[-c(1,2,3,4,10:29)]\n",
    "head(table3done)\n",
    "colnames(table3done) <- c(\"length\",\"views\",\"rate\",\"ratings\",\"comments\")\n",
    "head(table3done)\n",
    "\n",
    "## Combine Into 1 datatable and export to a single table\n",
    "\n",
    "datatable2008 <- rbind(table0done,table1done,table2done, table3done)\n",
    "tail(datatable2008)\n",
    "\n",
    "write.table(datatable2008, file = \"datatable2008.txt\", sep = \"\\t\",\n",
    "            row.names = FALSE, col.names = TRUE)\n",
    " \n",
    "## Loading Table 0\n",
    "table0 <- read.delim(\"0.txt\", header = FALSE, sep = \"\\t\", dec = \".\")\n",
    "head(table0)\n",
    "\n",
    "table0done <- table0[-c(1,2,3,4,10:29)]\n",
    "head(table0done)\n",
    "colnames(table0done) <- c(\"length\",\"views\",\"rate\",\"ratings\",\"comments\")\n",
    "head(table0done)\n",
    "\n",
    "## Loading Table 1\n",
    "table1 <- read.delim(\"1.txt\", header = FALSE, sep = \"\\t\", dec = \".\")\n",
    "head(table1)\n",
    "\n",
    "table1done <- table1[-c(1,2,3,4,10:29)]\n",
    "head(table1done)\n",
    "colnames(table1done) <- c(\"length\",\"views\",\"rate\",\"ratings\",\"comments\")\n",
    "head(table1done)\n",
    "## Loading Table 2\n",
    "table2 <- read.delim(\"2.txt\", header = FALSE, sep = \"\\t\", dec = \".\")\n",
    "head(table2)\n",
    "\n",
    "table2done <- table2[-c(1,2,3,4,10:29)]\n",
    "head(table2done)\n",
    "colnames(table2done) <- c(\"length\",\"views\",\"rate\",\"ratings\",\"comments\")\n",
    "head(table2done)\n",
    "\n",
    "## Loading Table 3\n",
    "table3 <- read.delim(\"3.txt\", header = FALSE, sep = \"\\t\", dec = \".\")\n",
    "head(table3)\n",
    "\n",
    "table3done <- table3[-c(1,2,3,4,10:29)]\n",
    "head(table3done)\n",
    "colnames(table3done) <- c(\"length\",\"views\",\"rate\",\"ratings\",\"comments\")\n",
    "head(table3done)\n",
    "\n",
    "\n",
    "## Combine Into 1 datatable and export into single text file\n",
    "\n",
    "datatable2007 <- rbind(table0done,table1done,table2done, table3done)\n",
    "tail(datatable2007)\n",
    "\n",
    "write.table(datatable2007, file = \"datatable2007.txt\", sep = \"\\t\",\n",
    "            row.names = FALSE, col.names = TRUE)"
   ]
  },
  {
   "cell_type": "code",
   "execution_count": 14,
   "id": "94f7f37d-6c7a-407d-b166-b1d2c6ce71e0",
   "metadata": {},
   "outputs": [
    {
     "name": "stderr",
     "output_type": "stream",
     "text": [
      "── \u001b[1mAttaching packages\u001b[22m ─────────────────────────────────────────────────────────────────────────────── tidyverse 1.3.2 ──\n",
      "\u001b[32m✔\u001b[39m \u001b[34mggplot2\u001b[39m 3.4.0      \u001b[32m✔\u001b[39m \u001b[34mpurrr  \u001b[39m 1.0.0 \n",
      "\u001b[32m✔\u001b[39m \u001b[34mtibble \u001b[39m 3.1.8      \u001b[32m✔\u001b[39m \u001b[34mdplyr  \u001b[39m 1.0.10\n",
      "\u001b[32m✔\u001b[39m \u001b[34mtidyr  \u001b[39m 1.2.1      \u001b[32m✔\u001b[39m \u001b[34mstringr\u001b[39m 1.5.0 \n",
      "\u001b[32m✔\u001b[39m \u001b[34mreadr  \u001b[39m 2.1.3      \u001b[32m✔\u001b[39m \u001b[34mforcats\u001b[39m 0.5.2 \n",
      "── \u001b[1mConflicts\u001b[22m ────────────────────────────────────────────────────────────────────────────────── tidyverse_conflicts() ──\n",
      "\u001b[31m✖\u001b[39m \u001b[34mdplyr\u001b[39m::\u001b[32mfilter()\u001b[39m masks \u001b[34mstats\u001b[39m::filter()\n",
      "\u001b[31m✖\u001b[39m \u001b[34mdplyr\u001b[39m::\u001b[32mlag()\u001b[39m    masks \u001b[34mstats\u001b[39m::lag()\n"
     ]
    },
    {
     "data": {
      "text/html": [
       "<table class=\"dataframe\">\n",
       "<caption>A data.frame: 6 × 5</caption>\n",
       "<thead>\n",
       "\t<tr><th></th><th scope=col>length</th><th scope=col>views</th><th scope=col>rate</th><th scope=col>ratings</th><th scope=col>comments</th></tr>\n",
       "\t<tr><th></th><th scope=col>&lt;int&gt;</th><th scope=col>&lt;int&gt;</th><th scope=col>&lt;dbl&gt;</th><th scope=col>&lt;int&gt;</th><th scope=col>&lt;int&gt;</th></tr>\n",
       "</thead>\n",
       "<tbody>\n",
       "\t<tr><th scope=row>1</th><td> 28</td><td>1393810</td><td>4.16</td><td>1397</td><td>2888</td></tr>\n",
       "\t<tr><th scope=row>2</th><td>133</td><td> 208383</td><td>3.47</td><td> 318</td><td> 769</td></tr>\n",
       "\t<tr><th scope=row>3</th><td> 28</td><td> 135882</td><td>3.89</td><td>  92</td><td> 276</td></tr>\n",
       "\t<tr><th scope=row>4</th><td> 41</td><td> 153590</td><td>1.58</td><td>2074</td><td>1230</td></tr>\n",
       "\t<tr><th scope=row>5</th><td> 99</td><td>  92520</td><td>2.32</td><td>  78</td><td> 155</td></tr>\n",
       "\t<tr><th scope=row>6</th><td> 28</td><td> 115085</td><td>3.73</td><td>  84</td><td> 207</td></tr>\n",
       "</tbody>\n",
       "</table>\n"
      ],
      "text/latex": [
       "A data.frame: 6 × 5\n",
       "\\begin{tabular}{r|lllll}\n",
       "  & length & views & rate & ratings & comments\\\\\n",
       "  & <int> & <int> & <dbl> & <int> & <int>\\\\\n",
       "\\hline\n",
       "\t1 &  28 & 1393810 & 4.16 & 1397 & 2888\\\\\n",
       "\t2 & 133 &  208383 & 3.47 &  318 &  769\\\\\n",
       "\t3 &  28 &  135882 & 3.89 &   92 &  276\\\\\n",
       "\t4 &  41 &  153590 & 1.58 & 2074 & 1230\\\\\n",
       "\t5 &  99 &   92520 & 2.32 &   78 &  155\\\\\n",
       "\t6 &  28 &  115085 & 3.73 &   84 &  207\\\\\n",
       "\\end{tabular}\n"
      ],
      "text/markdown": [
       "\n",
       "A data.frame: 6 × 5\n",
       "\n",
       "| <!--/--> | length &lt;int&gt; | views &lt;int&gt; | rate &lt;dbl&gt; | ratings &lt;int&gt; | comments &lt;int&gt; |\n",
       "|---|---|---|---|---|---|\n",
       "| 1 |  28 | 1393810 | 4.16 | 1397 | 2888 |\n",
       "| 2 | 133 |  208383 | 3.47 |  318 |  769 |\n",
       "| 3 |  28 |  135882 | 3.89 |   92 |  276 |\n",
       "| 4 |  41 |  153590 | 1.58 | 2074 | 1230 |\n",
       "| 5 |  99 |   92520 | 2.32 |   78 |  155 |\n",
       "| 6 |  28 |  115085 | 3.73 |   84 |  207 |\n",
       "\n"
      ],
      "text/plain": [
       "  length views   rate ratings comments\n",
       "1  28    1393810 4.16 1397    2888    \n",
       "2 133     208383 3.47  318     769    \n",
       "3  28     135882 3.89   92     276    \n",
       "4  41     153590 1.58 2074    1230    \n",
       "5  99      92520 2.32   78     155    \n",
       "6  28     115085 3.73   84     207    "
      ]
     },
     "metadata": {},
     "output_type": "display_data"
    }
   ],
   "source": [
    "#Read the data\n",
    "data2007 <- read.csv(\"dsci-310-group-13/data/datatable2007.txt\",sep=\"\")\n",
    "head(data2007)"
   ]
  },
  {
   "cell_type": "code",
   "execution_count": 21,
   "id": "3f72ebb2-cd73-4f51-928d-a1b5ead2dadb",
   "metadata": {},
   "outputs": [
    {
     "data": {
      "image/png": "[encoded data removed]",
      "text/plain": [
       "plot without title"
      ]
     },
     "metadata": {
      "image/png": {
       "height": 420,
       "width": 420
      }
     },
     "output_type": "display_data"
    }
   ],
   "source": [
    "#Observe the explanatory variables individually against the predictor, views.\n",
    "par(mfrow=c(2,2))\n",
    "plot(data2007$length,data2007$views)\n",
    "plot(data2007$rate,data2007$views)\n",
    "plot(data2007$ratings,data2007$views)\n",
    "plot(data2007$comments,data2007$views)"
   ]
  },
  {
   "cell_type": "code",
   "execution_count": 23,
   "id": "4ef25367-2b1f-4d98-bb8a-e3dd157480b5",
   "metadata": {},
   "outputs": [
    {
     "data": {
      "text/plain": [
       "\n",
       "Call:\n",
       "lm(formula = views ~ ., data = data2007)\n",
       "\n",
       "Residuals:\n",
       "    Min      1Q  Median      3Q     Max \n",
       "-403681   -3035   -1618    -280 1785135 \n",
       "\n",
       "Coefficients:\n",
       "             Estimate Std. Error t value Pr(>|t|)    \n",
       "(Intercept) 1548.4318   171.8804   9.009   <2e-16 ***\n",
       "length        -4.6177     0.3975 -11.618   <2e-16 ***\n",
       "rate         393.8711    41.3336   9.529   <2e-16 ***\n",
       "ratings      249.6868     2.0997 118.917   <2e-16 ***\n",
       "comments      30.4386     3.0608   9.945   <2e-16 ***\n",
       "---\n",
       "Signif. codes:  0 '***' 0.001 '**' 0.01 '*' 0.05 '.' 0.1 ' ' 1\n",
       "\n",
       "Residual standard error: 18730 on 62096 degrees of freedom\n",
       "  (102 observations deleted due to missingness)\n",
       "Multiple R-squared:  0.3613,\tAdjusted R-squared:  0.3613 \n",
       "F-statistic:  8782 on 4 and 62096 DF,  p-value: < 2.2e-16\n"
      ]
     },
     "metadata": {},
     "output_type": "display_data"
    }
   ],
   "source": [
    "# Perform linear regression\n",
    "mod <- lm(views~.,data2007)\n",
    "summary(mod)"
   ]
  },
  {
   "cell_type": "markdown",
   "id": "a219cdf7-4caf-4bea-ba28-d2d477feff22",
   "metadata": {},
   "source": [
    "Although there is a low p-value for the coefficients, the adjusted R-squared value is not particularly high."
   ]
  },
  {
   "cell_type": "code",
   "execution_count": null,
   "id": "6df4ef5c-8c49-4d0e-8aa2-65cb605ab38a",
   "metadata": {},
   "outputs": [],
   "source": []
  }
 ],
 "metadata": {
  "kernelspec": {
   "display_name": "R",
   "language": "R",
   "name": "ir"
  },
  "language_info": {
   "codemirror_mode": "r",
   "file_extension": ".r",
   "mimetype": "text/x-r-source",
   "name": "R",
   "pygments_lexer": "r",
   "version": "4.2.2"
  }
 },
 "nbformat": 4,
 "nbformat_minor": 5
}
