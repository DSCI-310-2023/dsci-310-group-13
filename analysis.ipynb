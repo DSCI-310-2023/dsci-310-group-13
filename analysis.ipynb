{
 "cells": [
  {
   "cell_type": "markdown",
   "id": "575095a9-5392-428e-a91c-60874cd452f1",
   "metadata": {},
   "source": [
    "# Predicting Youtube View Count in 2007/2008"
   ]
  },
  {
   "cell_type": "markdown",
   "id": "29ee3e0f-c2fe-4b60-928f-189ab2df2438",
   "metadata": {},
   "source": [
    "### Introduction\n",
    "\n",
    "After being acquired by Google in 2006, Youtube obtained a rapid growth in popularity resulting in a growing community. The goal of this project is to use the data of 2007 to predict the view of videos in 2008. We will be using datasets from https://netsg.cs.sfu.ca/youtubedata/. The dataset uses a crawler to obtained video API and scrape the webpage for the remaining information.\n"
   ]
  },
  {
   "cell_type": "markdown",
   "id": "27a3669b-363f-4978-9194-508b43271bd6",
   "metadata": {},
   "source": [
    "### Methods"
   ]
  },
  {
   "cell_type": "code",
   "execution_count": 10,
   "id": "94f7f37d-6c7a-407d-b166-b1d2c6ce71e0",
   "metadata": {},
   "outputs": [],
   "source": [
    "#Read the data\n",
    "data2007 <- read.csv(\"dsci-310-group-13/data/datatable2007.txt\")\n"
   ]
  },
  {
   "cell_type": "code",
   "execution_count": 5,
   "id": "3f72ebb2-cd73-4f51-928d-a1b5ead2dadb",
   "metadata": {},
   "outputs": [
    {
     "data": {
      "text/html": [
       "'C:/Users/Maggie/School'"
      ],
      "text/latex": [
       "'C:/Users/Maggie/School'"
      ],
      "text/markdown": [
       "'C:/Users/Maggie/School'"
      ],
      "text/plain": [
       "[1] \"C:/Users/Maggie/School\""
      ]
     },
     "metadata": {},
     "output_type": "display_data"
    }
   ],
   "source": []
  },
  {
   "cell_type": "code",
   "execution_count": null,
   "id": "4ef25367-2b1f-4d98-bb8a-e3dd157480b5",
   "metadata": {},
   "outputs": [],
   "source": []
  }
 ],
 "metadata": {
  "kernelspec": {
   "display_name": "R",
   "language": "R",
   "name": "ir"
  },
  "language_info": {
   "codemirror_mode": "r",
   "file_extension": ".r",
   "mimetype": "text/x-r-source",
   "name": "R",
   "pygments_lexer": "r",
   "version": "4.2.2"
  }
 },
 "nbformat": 4,
 "nbformat_minor": 5
}
