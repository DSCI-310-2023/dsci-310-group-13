{
 "cells": [
  {
   "cell_type": "markdown",
   "id": "575095a9-5392-428e-a91c-60874cd452f1",
   "metadata": {},
   "source": [
    "# Predicting Youtube View Count in 2007/2008"
   ]
  },
  {
   "cell_type": "markdown",
   "id": "29ee3e0f-c2fe-4b60-928f-189ab2df2438",
   "metadata": {},
   "source": [
    "### Introduction\n",
    "\n",
    "After being acquired by Google in 2006, Youtube obtained a rapid growth in popularity resulting in a growing community. The goal of this project is to use the data of 2007 to predict the view of videos in 2008. We will be using datasets from https://netsg.cs.sfu.ca/youtubedata/. The dataset uses a crawler to obtained video API and scrape the webpage for the remaining information.\n"
   ]
  },
  {
   "cell_type": "code",
   "execution_count": null,
   "id": "251d7f5d-4270-40bf-aedc-dda171cbdf45",
   "metadata": {},
   "outputs": [],
   "source": [
    "## TODO\n",
    "-explain variables\n",
    "-variable selection\n"
   ]
  },
  {
   "cell_type": "markdown",
   "id": "27a3669b-363f-4978-9194-508b43271bd6",
   "metadata": {},
   "source": [
    "### Methods"
   ]
  },
  {
   "cell_type": "code",
   "execution_count": 22,
   "id": "7a44736e-48ad-44e1-a881-33afab3d98a0",
   "metadata": {},
   "outputs": [],
   "source": [
    "# Setup\n",
    "library(tidyverse)\n",
    "library(corrplot)\n",
    "library(car)"
   ]
  },
  {
   "cell_type": "code",
   "execution_count": 2,
   "id": "2727004f-7afd-483a-ad7f-f8e9c84d6d8e",
   "metadata": {},
   "outputs": [],
   "source": [
    "## Load in May 5th 2007 data\n",
    "table0007 <- read.delim(\"data/0007.txt\", header = FALSE, sep = \"\\t\", dec = \".\")\n",
    "table0107 <- read.delim(\"data/0107.txt\", header = FALSE, sep = \"\\t\", dec = \".\")\n",
    "table0207 <- read.delim(\"data/0207.txt\", header = FALSE, sep = \"\\t\", dec = \".\")\n",
    "table0307 <- read.delim(\"data/0307.txt\", header = FALSE, sep = \"\\t\", dec = \".\")\n",
    "\n",
    "data2007 <- rbind(table0007,table0107,table0207, table0307)|> na.omit()\n",
    "colnames(data2007) <- c(\"Video ID\", \"uploader\", \"age\", 'category','length','views','rate','ratings','comments','related IDs')\n",
    "\n",
    "## Load in May 4th 2008 data\n",
    "table0008 <- read.delim(\"data/0008.txt\", header = FALSE, sep = \"\\t\", dec = \".\")\n",
    "table0108 <- read.delim(\"data/0108.txt\", header = FALSE, sep = \"\\t\", dec = \".\")\n",
    "table0208 <- read.delim(\"data/0208.txt\", header = FALSE, sep = \"\\t\", dec = \".\")\n",
    "table0308 <- read.delim(\"data/0308.txt\", header = FALSE, sep = \"\\t\", dec = \".\")\n",
    "\n",
    "data2008 <- rbind(table0008,table0108,table0208, table0308)|> na.omit()\n",
    "colnames(data2008) <- c(\"Video ID\", \"uploader\", \"age\", 'category','length','views','rate','ratings','comments','related IDs')\n"
   ]
  },
  {
   "cell_type": "markdown",
   "id": "da0d45cd-9eb2-43c1-9a20-0262d30493bd",
   "metadata": {},
   "source": [
    "#### Wrangling data\n",
    "We decide to immediately remove some of the variables presented in the datasets. This included `uploader`,`video ID`, and `related IDs` because these variables appear to be unique to the videos itself and not affect video views as a whole."
   ]
  },
  {
   "cell_type": "code",
   "execution_count": 3,
   "id": "94f7f37d-6c7a-407d-b166-b1d2c6ce71e0",
   "metadata": {},
   "outputs": [],
   "source": [
    "#Read the data\n",
    "data2007 <- data2007|> select(-c(1,2,10:29))\n",
    "data2008 <- data2008 |>  select(-c(1,2,10:29))"
   ]
  },
  {
   "cell_type": "code",
   "execution_count": 4,
   "id": "56affccd-952e-45fb-bd4f-448ccb82023c",
   "metadata": {},
   "outputs": [
    {
     "data": {
      "text/html": [
       "FALSE"
      ],
      "text/latex": [
       "FALSE"
      ],
      "text/markdown": [
       "FALSE"
      ],
      "text/plain": [
       "[1] FALSE"
      ]
     },
     "metadata": {},
     "output_type": "display_data"
    },
    {
     "data": {
      "text/html": [
       "<table class=\"dataframe\">\n",
       "<caption>A data.frame: 6 × 7</caption>\n",
       "<thead>\n",
       "\t<tr><th></th><th scope=col>age</th><th scope=col>category</th><th scope=col>length</th><th scope=col>views</th><th scope=col>rate</th><th scope=col>ratings</th><th scope=col>comments</th></tr>\n",
       "\t<tr><th></th><th scope=col>&lt;dbl&gt;</th><th scope=col>&lt;chr&gt;</th><th scope=col>&lt;int&gt;</th><th scope=col>&lt;int&gt;</th><th scope=col>&lt;dbl&gt;</th><th scope=col>&lt;int&gt;</th><th scope=col>&lt;int&gt;</th></tr>\n",
       "</thead>\n",
       "<tbody>\n",
       "\t<tr><th scope=row>1</th><td>807</td><td>Entertainment  </td><td> 28</td><td>1393810</td><td>4.16</td><td>1397</td><td>2888</td></tr>\n",
       "\t<tr><th scope=row>2</th><td>808</td><td>News &amp; Politics</td><td>133</td><td> 208383</td><td>3.47</td><td> 318</td><td> 769</td></tr>\n",
       "\t<tr><th scope=row>3</th><td>807</td><td>People &amp; Blogs </td><td> 28</td><td> 135882</td><td>3.89</td><td><span style=white-space:pre-wrap>  92</span></td><td> 276</td></tr>\n",
       "\t<tr><th scope=row>4</th><td>807</td><td><span style=white-space:pre-wrap>Howto &amp; DIY    </span></td><td> 41</td><td> 153590</td><td>1.58</td><td>2074</td><td>1230</td></tr>\n",
       "\t<tr><th scope=row>5</th><td>807</td><td>Sports         </td><td> 99</td><td>  92520</td><td>2.32</td><td>  78</td><td> 155</td></tr>\n",
       "\t<tr><th scope=row>6</th><td>807</td><td>Entertainment  </td><td> 28</td><td> 115085</td><td>3.73</td><td>  84</td><td> 207</td></tr>\n",
       "</tbody>\n",
       "</table>\n"
      ],
      "text/latex": [
       "A data.frame: 6 × 7\n",
       "\\begin{tabular}{r|lllllll}\n",
       "  & age & category & length & views & rate & ratings & comments\\\\\n",
       "  & <dbl> & <chr> & <int> & <int> & <dbl> & <int> & <int>\\\\\n",
       "\\hline\n",
       "\t1 & 807 & Entertainment   &  28 & 1393810 & 4.16 & 1397 & 2888\\\\\n",
       "\t2 & 808 & News \\& Politics & 133 &  208383 & 3.47 &  318 &  769\\\\\n",
       "\t3 & 807 & People \\& Blogs  &  28 &  135882 & 3.89 &   92 &  276\\\\\n",
       "\t4 & 807 & Howto \\& DIY     &  41 &  153590 & 1.58 & 2074 & 1230\\\\\n",
       "\t5 & 807 & Sports          &  99 &   92520 & 2.32 &   78 &  155\\\\\n",
       "\t6 & 807 & Entertainment   &  28 &  115085 & 3.73 &   84 &  207\\\\\n",
       "\\end{tabular}\n"
      ],
      "text/markdown": [
       "\n",
       "A data.frame: 6 × 7\n",
       "\n",
       "| <!--/--> | age &lt;dbl&gt; | category &lt;chr&gt; | length &lt;int&gt; | views &lt;int&gt; | rate &lt;dbl&gt; | ratings &lt;int&gt; | comments &lt;int&gt; |\n",
       "|---|---|---|---|---|---|---|---|\n",
       "| 1 | 807 | Entertainment   |  28 | 1393810 | 4.16 | 1397 | 2888 |\n",
       "| 2 | 808 | News &amp; Politics | 133 |  208383 | 3.47 |  318 |  769 |\n",
       "| 3 | 807 | People &amp; Blogs  |  28 |  135882 | 3.89 |   92 |  276 |\n",
       "| 4 | 807 | Howto &amp; DIY     |  41 |  153590 | 1.58 | 2074 | 1230 |\n",
       "| 5 | 807 | Sports          |  99 |   92520 | 2.32 |   78 |  155 |\n",
       "| 6 | 807 | Entertainment   |  28 |  115085 | 3.73 |   84 |  207 |\n",
       "\n"
      ],
      "text/plain": [
       "  age category        length views   rate ratings comments\n",
       "1 807 Entertainment    28    1393810 4.16 1397    2888    \n",
       "2 808 News & Politics 133     208383 3.47  318     769    \n",
       "3 807 People & Blogs   28     135882 3.89   92     276    \n",
       "4 807 Howto & DIY      41     153590 1.58 2074    1230    \n",
       "5 807 Sports           99      92520 2.32   78     155    \n",
       "6 807 Entertainment    28     115085 3.73   84     207    "
      ]
     },
     "metadata": {},
     "output_type": "display_data"
    }
   ],
   "source": [
    "# Remove any NA's\n",
    "# data2007 <- na.omit(data2007)\n",
    "# data2008 <- na.omit(data2008)\n",
    "any(is.na(data2007))\n",
    "head(data2007)"
   ]
  },
  {
   "cell_type": "markdown",
   "id": "fcb08ddb-0dfd-4c25-a88b-6e0b307ab908",
   "metadata": {},
   "source": [
    "### Preliminary Analysis"
   ]
  },
  {
   "cell_type": "code",
   "execution_count": null,
   "id": "3f72ebb2-cd73-4f51-928d-a1b5ead2dadb",
   "metadata": {},
   "outputs": [],
   "source": [
    "#Observe the explanatory variables individually against the predictor, views.\n",
    "par(mfrow=c(3,2))\n",
    "plot(data2007$length,data2007$views, ylab = 'Views', xlab = 'Length', main = 'Views vs Length')\n",
    "plot(data2007$rate,data2007$views, ylab = 'Views', xlab = 'Rate', main = 'Views vs Rate')\n",
    "plot(data2007$ratings,data2007$views, ylab = 'Views', xlab = 'Ratings', main = 'Views vs Ratings')\n",
    "plot(data2007$comments,data2007$views, ylab = 'Views', xlab = 'Comments', main = 'Views vs Comments')\n",
    "plot(data2007$age,data2007$views, ylab = 'Views', xlab = 'Age', main = 'Views vs Age')\n",
    "plot(data2007$comments,data2007$category, ylab = 'Views', xlab = 'Category', main = 'Views vs Category')"
   ]
  },
  {
   "cell_type": "code",
   "execution_count": 46,
   "id": "08f929b3-a960-4813-b476-7423bf43d56f",
   "metadata": {},
   "outputs": [
    {
     "data": {
      "image/png": "[encoded data removed]",
      "text/plain": [
       "plot without title"
      ]
     },
     "metadata": {
      "image/png": {
       "height": 420,
       "width": 420
      }
     },
     "output_type": "display_data"
    }
   ],
   "source": [
    "pivot_longer(data2007,-c(views,category))|> \n",
    "    ggplot(aes(value,views,color=name)) +\n",
    "    geom_point() +\n",
    "    facet_wrap(~name, scales ='free',strip.position='bottom') + \n",
    "    scale_color_viridis_d() + \n",
    "    xlab(\"\") + ylab(\"views\")"
   ]
  },
  {
   "cell_type": "code",
   "execution_count": 8,
   "id": "a3989473-4dc9-4aa5-9fd5-b7106597e29e",
   "metadata": {},
   "outputs": [
    {
     "data": {
      "image/png": "[encoded data removed]",
      "text/plain": [
       "plot without title"
      ]
     },
     "metadata": {
      "image/png": {
       "height": 420,
       "width": 420
      }
     },
     "output_type": "display_data"
    }
   ],
   "source": [
    "ggplot(data2007, aes(category,views, fill = category))+ geom_bar(stat = 'identity')+coord_flip()"
   ]
  },
  {
   "cell_type": "code",
   "execution_count": 24,
   "id": "67a942ad-08f2-4c9d-95bb-e831f0226d82",
   "metadata": {},
   "outputs": [
    {
     "data": {
      "image/png": "[encoded data removed]",
      "text/plain": [
       "Plot with title \"\""
      ]
     },
     "metadata": {
      "image/png": {
       "height": 420,
       "width": 420
      }
     },
     "output_type": "display_data"
    }
   ],
   "source": [
    "# Correlation plot\n",
    "corrvar <- data2007|> select(-c(2))|> cor()\n",
    "corrplot(corrvar, method = 'number')"
   ]
  },
  {
   "cell_type": "markdown",
   "id": "585d0715-df12-4188-88c8-20d85017dc80",
   "metadata": {},
   "source": [
    "Taking a look at the correlation plot, we can see that `ratings` and `comments` have the strong positive relationship with the predictive variable `views`. Meanwhile, the other explanatory variables have a very weak relationship with `views`. `ratings` has a positive correlation with `view` and `comments` too. Because there are explanatory variables with correlation against each other, we check if multicollinearity is significant by taking a look at the VIF scores."
   ]
  },
  {
   "cell_type": "code",
   "execution_count": 26,
   "id": "a257cc8b-1c79-470f-9ac2-1591b4f5a1fa",
   "metadata": {},
   "outputs": [
    {
     "name": "stderr",
     "output_type": "stream",
     "text": [
      "Warning message:\n",
      "\"In lm.fit(x, y, offset = offset, singular.ok = singular.ok, ...) :\n",
      " extra argument 'type' will be disregarded\"\n"
     ]
    },
    {
     "data": {
      "text/html": [
       "<table class=\"dataframe\">\n",
       "<caption>A matrix: 6 × 3 of type dbl</caption>\n",
       "<thead>\n",
       "\t<tr><th></th><th scope=col>GVIF</th><th scope=col>Df</th><th scope=col>GVIF^(1/(2*Df))</th></tr>\n",
       "</thead>\n",
       "<tbody>\n",
       "\t<tr><th scope=row>age</th><td>1.403040</td><td> 1</td><td>1.184500</td></tr>\n",
       "\t<tr><th scope=row>category</th><td>1.456405</td><td>12</td><td>1.015789</td></tr>\n",
       "\t<tr><th scope=row>length</th><td>1.063942</td><td> 1</td><td>1.031476</td></tr>\n",
       "\t<tr><th scope=row>rate</th><td>1.090254</td><td> 1</td><td>1.044152</td></tr>\n",
       "\t<tr><th scope=row>ratings</th><td>2.261319</td><td> 1</td><td>1.503768</td></tr>\n",
       "\t<tr><th scope=row>comments</th><td>2.168201</td><td> 1</td><td>1.472481</td></tr>\n",
       "</tbody>\n",
       "</table>\n"
      ],
      "text/latex": [
       "A matrix: 6 × 3 of type dbl\n",
       "\\begin{tabular}{r|lll}\n",
       "  & GVIF & Df & GVIF\\textasciicircum{}(1/(2*Df))\\\\\n",
       "\\hline\n",
       "\tage & 1.403040 &  1 & 1.184500\\\\\n",
       "\tcategory & 1.456405 & 12 & 1.015789\\\\\n",
       "\tlength & 1.063942 &  1 & 1.031476\\\\\n",
       "\trate & 1.090254 &  1 & 1.044152\\\\\n",
       "\tratings & 2.261319 &  1 & 1.503768\\\\\n",
       "\tcomments & 2.168201 &  1 & 1.472481\\\\\n",
       "\\end{tabular}\n"
      ],
      "text/markdown": [
       "\n",
       "A matrix: 6 × 3 of type dbl\n",
       "\n",
       "| <!--/--> | GVIF | Df | GVIF^(1/(2*Df)) |\n",
       "|---|---|---|---|\n",
       "| age | 1.403040 |  1 | 1.184500 |\n",
       "| category | 1.456405 | 12 | 1.015789 |\n",
       "| length | 1.063942 |  1 | 1.031476 |\n",
       "| rate | 1.090254 |  1 | 1.044152 |\n",
       "| ratings | 2.261319 |  1 | 1.503768 |\n",
       "| comments | 2.168201 |  1 | 1.472481 |\n",
       "\n"
      ],
      "text/plain": [
       "         GVIF     Df GVIF^(1/(2*Df))\n",
       "age      1.403040  1 1.184500       \n",
       "category 1.456405 12 1.015789       \n",
       "length   1.063942  1 1.031476       \n",
       "rate     1.090254  1 1.044152       \n",
       "ratings  2.261319  1 1.503768       \n",
       "comments 2.168201  1 1.472481       "
      ]
     },
     "metadata": {},
     "output_type": "display_data"
    }
   ],
   "source": [
    "vif(lm(views~.,data2007))"
   ]
  },
  {
   "cell_type": "code",
   "execution_count": 16,
   "id": "4f7ef02b-b079-44cf-b643-00fe22dd37d9",
   "metadata": {},
   "outputs": [],
   "source": [
    "rownum <- sample(1:nrow(data2007), 0.75*nrow(data2007))\n",
    "train <- data2007[rownum,]\n",
    "test <- data2007[-rownum,]"
   ]
  },
  {
   "cell_type": "markdown",
   "id": "c3f5b56b-9e56-451e-a9b0-bb2cc51c4560",
   "metadata": {},
   "source": [
    "It appears that the explanatory variables do not have a linear relationship with the predictor variable."
   ]
  },
  {
   "cell_type": "code",
   "execution_count": 27,
   "id": "4ef25367-2b1f-4d98-bb8a-e3dd157480b5",
   "metadata": {},
   "outputs": [
    {
     "data": {
      "text/plain": [
       "\n",
       "Call:\n",
       "lm(formula = views ~ ., data = train)\n",
       "\n",
       "Residuals:\n",
       "    Min      1Q  Median      3Q     Max \n",
       "-372366   -2916   -1353     304 1240202 \n",
       "\n",
       "Coefficients:\n",
       "                           Estimate Std. Error t value Pr(>|t|)    \n",
       "(Intercept)               2.635e+04  8.431e+02  31.249  < 2e-16 ***\n",
       "age                      -1.120e+01  7.235e-01 -15.487  < 2e-16 ***\n",
       "categoryAutos & Vehicles -1.576e+04  1.145e+03 -13.764  < 2e-16 ***\n",
       "categoryComedy           -1.703e+04  9.711e+02 -17.537  < 2e-16 ***\n",
       "categoryEntertainment    -1.695e+04  9.650e+02 -17.561  < 2e-16 ***\n",
       "categoryFilm & Animation -1.858e+04  9.892e+02 -18.786  < 2e-16 ***\n",
       "categoryGadgets & Games  -1.814e+04  9.895e+02 -18.333  < 2e-16 ***\n",
       "categoryHowto & DIY      -1.829e+04  1.157e+03 -15.805  < 2e-16 ***\n",
       "categoryMusic            -1.694e+04  9.602e+02 -17.644  < 2e-16 ***\n",
       "categoryNews & Politics  -1.897e+04  1.052e+03 -18.023  < 2e-16 ***\n",
       "categoryPeople & Blogs   -1.757e+04  9.937e+02 -17.682  < 2e-16 ***\n",
       "categoryPets & Animals   -1.847e+04  1.055e+03 -17.508  < 2e-16 ***\n",
       "categorySports           -1.692e+04  9.848e+02 -17.177  < 2e-16 ***\n",
       "categoryTravel & Places  -1.858e+04  1.096e+03 -16.954  < 2e-16 ***\n",
       "length                   -2.929e+00  4.428e-01  -6.615 3.75e-11 ***\n",
       "rate                      3.086e+02  4.541e+01   6.797 1.08e-11 ***\n",
       "ratings                   2.263e+02  2.258e+00 100.204  < 2e-16 ***\n",
       "comments                  4.652e+01  3.190e+00  14.583  < 2e-16 ***\n",
       "---\n",
       "Signif. codes:  0 '***' 0.001 '**' 0.01 '*' 0.05 '.' 0.1 ' ' 1\n",
       "\n",
       "Residual standard error: 17480 on 46557 degrees of freedom\n",
       "Multiple R-squared:  0.4003,\tAdjusted R-squared:  0.4001 \n",
       "F-statistic:  1828 on 17 and 46557 DF,  p-value: < 2.2e-16\n"
      ]
     },
     "metadata": {},
     "output_type": "display_data"
    },
    {
     "data": {
      "text/html": [
       "<table class=\"dataframe\">\n",
       "<caption>A matrix: 6 × 3 of type dbl</caption>\n",
       "<thead>\n",
       "\t<tr><th></th><th scope=col>GVIF</th><th scope=col>Df</th><th scope=col>GVIF^(1/(2*Df))</th></tr>\n",
       "</thead>\n",
       "<tbody>\n",
       "\t<tr><th scope=row>age</th><td>1.400261</td><td> 1</td><td>1.183326</td></tr>\n",
       "\t<tr><th scope=row>category</th><td>1.456807</td><td>12</td><td>1.015800</td></tr>\n",
       "\t<tr><th scope=row>length</th><td>1.063744</td><td> 1</td><td>1.031380</td></tr>\n",
       "\t<tr><th scope=row>rate</th><td>1.090947</td><td> 1</td><td>1.044484</td></tr>\n",
       "\t<tr><th scope=row>ratings</th><td>2.236629</td><td> 1</td><td>1.495536</td></tr>\n",
       "\t<tr><th scope=row>comments</th><td>2.147131</td><td> 1</td><td>1.465309</td></tr>\n",
       "</tbody>\n",
       "</table>\n"
      ],
      "text/latex": [
       "A matrix: 6 × 3 of type dbl\n",
       "\\begin{tabular}{r|lll}\n",
       "  & GVIF & Df & GVIF\\textasciicircum{}(1/(2*Df))\\\\\n",
       "\\hline\n",
       "\tage & 1.400261 &  1 & 1.183326\\\\\n",
       "\tcategory & 1.456807 & 12 & 1.015800\\\\\n",
       "\tlength & 1.063744 &  1 & 1.031380\\\\\n",
       "\trate & 1.090947 &  1 & 1.044484\\\\\n",
       "\tratings & 2.236629 &  1 & 1.495536\\\\\n",
       "\tcomments & 2.147131 &  1 & 1.465309\\\\\n",
       "\\end{tabular}\n"
      ],
      "text/markdown": [
       "\n",
       "A matrix: 6 × 3 of type dbl\n",
       "\n",
       "| <!--/--> | GVIF | Df | GVIF^(1/(2*Df)) |\n",
       "|---|---|---|---|\n",
       "| age | 1.400261 |  1 | 1.183326 |\n",
       "| category | 1.456807 | 12 | 1.015800 |\n",
       "| length | 1.063744 |  1 | 1.031380 |\n",
       "| rate | 1.090947 |  1 | 1.044484 |\n",
       "| ratings | 2.236629 |  1 | 1.495536 |\n",
       "| comments | 2.147131 |  1 | 1.465309 |\n",
       "\n"
      ],
      "text/plain": [
       "         GVIF     Df GVIF^(1/(2*Df))\n",
       "age      1.400261  1 1.183326       \n",
       "category 1.456807 12 1.015800       \n",
       "length   1.063744  1 1.031380       \n",
       "rate     1.090947  1 1.044484       \n",
       "ratings  2.236629  1 1.495536       \n",
       "comments 2.147131  1 1.465309       "
      ]
     },
     "metadata": {},
     "output_type": "display_data"
    }
   ],
   "source": [
    "# Perform linear regression\n",
    "#unclass() for categorical\n",
    "mod <- lm(views~.,train)\n",
    "summary(mod)\n",
    "vif(mod)"
   ]
  },
  {
   "cell_type": "markdown",
   "id": "a219cdf7-4caf-4bea-ba28-d2d477feff22",
   "metadata": {},
   "source": [
    "Although there is a low p-value for the coefficients, the adjusted R-squared value is not particularly high and an extremely high standard error."
   ]
  },
  {
   "cell_type": "code",
   "execution_count": 86,
   "id": "6df4ef5c-8c49-4d0e-8aa2-65cb605ab38a",
   "metadata": {},
   "outputs": [
    {
     "data": {
      "text/plain": [
       "   Min. 1st Qu.  Median    Mean 3rd Qu.    Max.    NA's \n",
       " -15781    1973    3418    6525    6197  635024      21 "
      ]
     },
     "metadata": {},
     "output_type": "display_data"
    },
    {
     "data": {
      "text/html": [
       "TRUE"
      ],
      "text/latex": [
       "TRUE"
      ],
      "text/markdown": [
       "TRUE"
      ],
      "text/plain": [
       "[1] TRUE"
      ]
     },
     "metadata": {},
     "output_type": "display_data"
    },
    {
     "data": {
      "text/html": [
       "15551"
      ],
      "text/latex": [
       "15551"
      ],
      "text/markdown": [
       "15551"
      ],
      "text/plain": [
       "[1] 15551"
      ]
     },
     "metadata": {},
     "output_type": "display_data"
    },
    {
     "data": {
      "text/html": [
       "15551"
      ],
      "text/latex": [
       "15551"
      ],
      "text/markdown": [
       "15551"
      ],
      "text/plain": [
       "[1] 15551"
      ]
     },
     "metadata": {},
     "output_type": "display_data"
    }
   ],
   "source": [
    "#Lets predict the number of views\n",
    "prediction <- predict(mod,test)\n",
    "summary(prediction)"
   ]
  },
  {
   "cell_type": "code",
   "execution_count": 89,
   "id": "9e5fdb59-5ff3-4346-840f-c4badcf3695f",
   "metadata": {},
   "outputs": [
    {
     "data": {
      "text/html": [
       "18143.5241180562"
      ],
      "text/latex": [
       "18143.5241180562"
      ],
      "text/markdown": [
       "18143.5241180562"
      ],
      "text/plain": [
       "[1] 18143.52"
      ]
     },
     "metadata": {},
     "output_type": "display_data"
    },
    {
     "data": {
      "text/html": [
       "18143.5241180562"
      ],
      "text/latex": [
       "18143.5241180562"
      ],
      "text/markdown": [
       "18143.5241180562"
      ],
      "text/plain": [
       "[1] 18143.52"
      ]
     },
     "metadata": {},
     "output_type": "display_data"
    }
   ],
   "source": [
    "#Calculate the RMSE\n",
    "prediction <- na.omit(prediction)\n",
    "test$views <- na.omit(test$views)\n",
    "rmse <- sqrt(mean((test$views - prediction)^2))\n",
    "rmse"
   ]
  },
  {
   "cell_type": "markdown",
   "id": "6c5c0d7a-03af-4c8f-9a75-18f345e628a9",
   "metadata": {},
   "source": [
    "It seems like the residual mean squared error is enormously high, which provides a good indication that this linear regression model is not well fitted."
   ]
  },
  {
   "cell_type": "code",
   "execution_count": null,
   "id": "9e06193a-7ace-4f54-99df-4db00a04326a",
   "metadata": {},
   "outputs": [],
   "source": []
  }
 ],
 "metadata": {
  "kernelspec": {
   "display_name": "R",
   "language": "R",
   "name": "ir"
  },
  "language_info": {
   "codemirror_mode": "r",
   "file_extension": ".r",
   "mimetype": "text/x-r-source",
   "name": "R",
   "pygments_lexer": "r",
   "version": "4.2.2"
  }
 },
 "nbformat": 4,
 "nbformat_minor": 5
}
