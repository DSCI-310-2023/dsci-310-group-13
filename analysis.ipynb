{
 "cells": [
  {
   "cell_type": "markdown",
   "id": "575095a9-5392-428e-a91c-60874cd452f1",
   "metadata": {},
   "source": [
    "# Predicting Youtube View Count in 2007/2008"
   ]
  },
  {
   "cell_type": "markdown",
   "id": "29ee3e0f-c2fe-4b60-928f-189ab2df2438",
   "metadata": {},
   "source": [
    "### Introduction\n",
    "\n",
    "After being acquired by Google in 2006, Youtube obtained a rapid growth in popularity resulting in a growing community. The goal of this project is to use the data of 2007 to predict the view of videos in 2008. We will be using datasets from https://netsg.cs.sfu.ca/youtubedata/. The dataset uses a crawler to obtained video API and scrape the webpage for the remaining information.\n"
   ]
  },
  {
   "cell_type": "code",
   "execution_count": null,
   "id": "251d7f5d-4270-40bf-aedc-dda171cbdf45",
   "metadata": {},
   "outputs": [],
   "source": [
    "## TODO\n",
    "-explain variables\n",
    "-variable selection\n"
   ]
  },
  {
   "cell_type": "markdown",
   "id": "27a3669b-363f-4978-9194-508b43271bd6",
   "metadata": {},
   "source": [
    "### Methods"
   ]
  },
  {
   "cell_type": "code",
   "execution_count": 67,
   "id": "7a44736e-48ad-44e1-a881-33afab3d98a0",
   "metadata": {},
   "outputs": [],
   "source": [
    "# Setup\n",
    "library(tidyverse)"
   ]
  },
  {
   "cell_type": "markdown",
   "id": "da0d45cd-9eb2-43c1-9a20-0262d30493bd",
   "metadata": {},
   "source": [
    "#### Wrangling data\n",
    "We decide to immediately remove some of the variables presented in the datasets. This included `video ID` and `related IDs` because these variables appear to be unique to the videos itself and not affect video views as a whole. `uploader`,`age`, and `category` are not included as well "
   ]
  },
  {
   "cell_type": "code",
   "execution_count": null,
   "id": "2727004f-7afd-483a-ad7f-f8e9c84d6d8e",
   "metadata": {},
   "outputs": [],
   "source": [
    "## Loading Table 0007\n",
    "table0007 <- read.delim(\"0.txt\", header = FALSE, sep = \"\\t\", dec = \".\")\n",
    "\n",
    "table0007done <- table0[-c(1,2,3,4,10:29)]\n",
    "colnames(table0007done) <- c(\"length\",\"views\",\"rate\",\"ratings\",\"comments\")\n",
    "\n",
    "## Loading Table 0107\n",
    "table0107 <- read.delim(\"1.txt\", header = FALSE, sep = \"\\t\", dec = \".\")\n",
    "head(table1)\n",
    "\n",
    "table1done <- table1[-c(1,2,3,4,10:29)]\n",
    "head(table1done)\n",
    "colnames(table1done) <- c(\"length\",\"views\",\"rate\",\"ratings\",\"comments\")\n",
    "head(table1done)\n",
    "\n",
    "## Loading Table 0207\n",
    "table0207 <- read.delim(\"2.txt\", header = FALSE, sep = \"\\t\", dec = \".\")\n",
    "head(table2)\n",
    "\n",
    "table2done <- table2[-c(1,2,3,4,10:29)]\n",
    "head(table2done)\n",
    "colnames(table2done) <- c(\"length\",\"views\",\"rate\",\"ratings\",\"comments\")\n",
    "head(table2done)\n",
    "\n",
    "## Loading Table 0307\n",
    "table3 <- read.delim(\"3.txt\", header = FALSE, sep = \"\\t\", dec = \".\")\n",
    "head(table3)\n",
    "\n",
    "table3done <- table3[-c(1,2,3,4,10:29)]\n",
    "head(table3done)\n",
    "colnames(table3done) <- c(\"length\",\"views\",\"rate\",\"ratings\",\"comments\")\n",
    "head(table3done)\n",
    "\n",
    "## Combine Into 1 datatable and export to a single table\n",
    "\n",
    "datatable2008 <- rbind(table0done,table1done,table2done, table3done)\n",
    "tail(datatable2008)\n",
    "\n",
    "write.table(datatable2008, file = \"datatable2008.txt\", sep = \"\\t\",\n",
    "            row.names = FALSE, col.names = TRUE)\n",
    " \n",
    "## Loading Table 0008\n",
    "table0 <- read.delim(\"0.txt\", header = FALSE, sep = \"\\t\", dec = \".\")\n",
    "head(table0)\n",
    "\n",
    "table0done <- table0[-c(1,2,3,4,10:29)]\n",
    "head(table0done)\n",
    "colnames(table0done) <- c(\"length\",\"views\",\"rate\",\"ratings\",\"comments\")\n",
    "head(table0done)\n",
    "\n",
    "## Loading Table 0108\n",
    "table1 <- read.delim(\"1.txt\", header = FALSE, sep = \"\\t\", dec = \".\")\n",
    "head(table1)\n",
    "\n",
    "table1done <- table1[-c(1,2,3,4,10:29)]\n",
    "head(table1done)\n",
    "colnames(table1done) <- c(\"length\",\"views\",\"rate\",\"ratings\",\"comments\")\n",
    "head(table1done)\n",
    "## Loading Table 0208\n",
    "table2 <- read.delim(\"2.txt\", header = FALSE, sep = \"\\t\", dec = \".\")\n",
    "head(table2)\n",
    "\n",
    "table2done <- table2[-c(1,2,3,4,10:29)]\n",
    "head(table2done)\n",
    "colnames(table2done) <- c(\"length\",\"views\",\"rate\",\"ratings\",\"comments\")\n",
    "head(table2done)\n",
    "\n",
    "## Loading Table 0308\n",
    "table3 <- read.delim(\"3.txt\", header = FALSE, sep = \"\\t\", dec = \".\")\n",
    "head(table3)\n",
    "\n",
    "table3done <- table3[-c(1,2,3,4,10:29)]\n",
    "head(table3done)\n",
    "colnames(table3done) <- c(\"length\",\"views\",\"rate\",\"ratings\",\"comments\")\n",
    "head(table3done)\n",
    "\n",
    "\n",
    "## Combine Into 1 datatable\n",
    "\n",
    "datatable2007 <- rbind(table0done,table1done,table2done, table3done)\n",
    "head(datatable2007)"
   ]
  },
  {
   "cell_type": "code",
   "execution_count": 31,
   "id": "94f7f37d-6c7a-407d-b166-b1d2c6ce71e0",
   "metadata": {},
   "outputs": [
    {
     "data": {
      "text/html": [
       "<table class=\"dataframe\">\n",
       "<caption>A matrix: 62203 × 5 of type lgl</caption>\n",
       "<thead>\n",
       "\t<tr><th scope=col>length</th><th scope=col>views</th><th scope=col>rate</th><th scope=col>ratings</th><th scope=col>comments</th></tr>\n",
       "</thead>\n",
       "<tbody>\n",
       "\t<tr><td>FALSE</td><td>FALSE</td><td>FALSE</td><td>FALSE</td><td>FALSE</td></tr>\n",
       "\t<tr><td>FALSE</td><td>FALSE</td><td>FALSE</td><td>FALSE</td><td>FALSE</td></tr>\n",
       "\t<tr><td>FALSE</td><td>FALSE</td><td>FALSE</td><td>FALSE</td><td>FALSE</td></tr>\n",
       "\t<tr><td>FALSE</td><td>FALSE</td><td>FALSE</td><td>FALSE</td><td>FALSE</td></tr>\n",
       "\t<tr><td>FALSE</td><td>FALSE</td><td>FALSE</td><td>FALSE</td><td>FALSE</td></tr>\n",
       "\t<tr><td>FALSE</td><td>FALSE</td><td>FALSE</td><td>FALSE</td><td>FALSE</td></tr>\n",
       "\t<tr><td>FALSE</td><td>FALSE</td><td>FALSE</td><td>FALSE</td><td>FALSE</td></tr>\n",
       "\t<tr><td>FALSE</td><td>FALSE</td><td>FALSE</td><td>FALSE</td><td>FALSE</td></tr>\n",
       "\t<tr><td>FALSE</td><td>FALSE</td><td>FALSE</td><td>FALSE</td><td>FALSE</td></tr>\n",
       "\t<tr><td>FALSE</td><td>FALSE</td><td>FALSE</td><td>FALSE</td><td>FALSE</td></tr>\n",
       "\t<tr><td>FALSE</td><td>FALSE</td><td>FALSE</td><td>FALSE</td><td>FALSE</td></tr>\n",
       "\t<tr><td>FALSE</td><td>FALSE</td><td>FALSE</td><td>FALSE</td><td>FALSE</td></tr>\n",
       "\t<tr><td>FALSE</td><td>FALSE</td><td>FALSE</td><td>FALSE</td><td>FALSE</td></tr>\n",
       "\t<tr><td>FALSE</td><td>FALSE</td><td>FALSE</td><td>FALSE</td><td>FALSE</td></tr>\n",
       "\t<tr><td>FALSE</td><td>FALSE</td><td>FALSE</td><td>FALSE</td><td>FALSE</td></tr>\n",
       "\t<tr><td>FALSE</td><td>FALSE</td><td>FALSE</td><td>FALSE</td><td>FALSE</td></tr>\n",
       "\t<tr><td>FALSE</td><td>FALSE</td><td>FALSE</td><td>FALSE</td><td>FALSE</td></tr>\n",
       "\t<tr><td>FALSE</td><td>FALSE</td><td>FALSE</td><td>FALSE</td><td>FALSE</td></tr>\n",
       "\t<tr><td>FALSE</td><td>FALSE</td><td>FALSE</td><td>FALSE</td><td>FALSE</td></tr>\n",
       "\t<tr><td>FALSE</td><td>FALSE</td><td>FALSE</td><td>FALSE</td><td>FALSE</td></tr>\n",
       "\t<tr><td>FALSE</td><td>FALSE</td><td>FALSE</td><td>FALSE</td><td>FALSE</td></tr>\n",
       "\t<tr><td>FALSE</td><td>FALSE</td><td>FALSE</td><td>FALSE</td><td>FALSE</td></tr>\n",
       "\t<tr><td> TRUE</td><td> TRUE</td><td> TRUE</td><td> TRUE</td><td> TRUE</td></tr>\n",
       "\t<tr><td>FALSE</td><td>FALSE</td><td>FALSE</td><td>FALSE</td><td>FALSE</td></tr>\n",
       "\t<tr><td>FALSE</td><td>FALSE</td><td>FALSE</td><td>FALSE</td><td>FALSE</td></tr>\n",
       "\t<tr><td>FALSE</td><td>FALSE</td><td>FALSE</td><td>FALSE</td><td>FALSE</td></tr>\n",
       "\t<tr><td>FALSE</td><td>FALSE</td><td>FALSE</td><td>FALSE</td><td>FALSE</td></tr>\n",
       "\t<tr><td>FALSE</td><td>FALSE</td><td>FALSE</td><td>FALSE</td><td>FALSE</td></tr>\n",
       "\t<tr><td>FALSE</td><td>FALSE</td><td>FALSE</td><td>FALSE</td><td>FALSE</td></tr>\n",
       "\t<tr><td>FALSE</td><td>FALSE</td><td>FALSE</td><td>FALSE</td><td>FALSE</td></tr>\n",
       "\t<tr><td>⋮</td><td>⋮</td><td>⋮</td><td>⋮</td><td>⋮</td></tr>\n",
       "\t<tr><td>FALSE</td><td>FALSE</td><td>FALSE</td><td>FALSE</td><td>FALSE</td></tr>\n",
       "\t<tr><td>FALSE</td><td>FALSE</td><td>FALSE</td><td>FALSE</td><td>FALSE</td></tr>\n",
       "\t<tr><td>FALSE</td><td>FALSE</td><td>FALSE</td><td>FALSE</td><td>FALSE</td></tr>\n",
       "\t<tr><td>FALSE</td><td>FALSE</td><td>FALSE</td><td>FALSE</td><td>FALSE</td></tr>\n",
       "\t<tr><td>FALSE</td><td>FALSE</td><td>FALSE</td><td>FALSE</td><td>FALSE</td></tr>\n",
       "\t<tr><td>FALSE</td><td>FALSE</td><td>FALSE</td><td>FALSE</td><td>FALSE</td></tr>\n",
       "\t<tr><td>FALSE</td><td>FALSE</td><td>FALSE</td><td>FALSE</td><td>FALSE</td></tr>\n",
       "\t<tr><td>FALSE</td><td>FALSE</td><td>FALSE</td><td>FALSE</td><td>FALSE</td></tr>\n",
       "\t<tr><td>FALSE</td><td>FALSE</td><td>FALSE</td><td>FALSE</td><td>FALSE</td></tr>\n",
       "\t<tr><td>FALSE</td><td>FALSE</td><td>FALSE</td><td>FALSE</td><td>FALSE</td></tr>\n",
       "\t<tr><td>FALSE</td><td>FALSE</td><td>FALSE</td><td>FALSE</td><td>FALSE</td></tr>\n",
       "\t<tr><td>FALSE</td><td>FALSE</td><td>FALSE</td><td>FALSE</td><td>FALSE</td></tr>\n",
       "\t<tr><td>FALSE</td><td>FALSE</td><td>FALSE</td><td>FALSE</td><td>FALSE</td></tr>\n",
       "\t<tr><td>FALSE</td><td>FALSE</td><td>FALSE</td><td>FALSE</td><td>FALSE</td></tr>\n",
       "\t<tr><td>FALSE</td><td>FALSE</td><td>FALSE</td><td>FALSE</td><td>FALSE</td></tr>\n",
       "\t<tr><td>FALSE</td><td>FALSE</td><td>FALSE</td><td>FALSE</td><td>FALSE</td></tr>\n",
       "\t<tr><td>FALSE</td><td>FALSE</td><td>FALSE</td><td>FALSE</td><td>FALSE</td></tr>\n",
       "\t<tr><td>FALSE</td><td>FALSE</td><td>FALSE</td><td>FALSE</td><td>FALSE</td></tr>\n",
       "\t<tr><td>FALSE</td><td>FALSE</td><td>FALSE</td><td>FALSE</td><td>FALSE</td></tr>\n",
       "\t<tr><td>FALSE</td><td>FALSE</td><td>FALSE</td><td>FALSE</td><td>FALSE</td></tr>\n",
       "\t<tr><td>FALSE</td><td>FALSE</td><td>FALSE</td><td>FALSE</td><td>FALSE</td></tr>\n",
       "\t<tr><td>FALSE</td><td>FALSE</td><td>FALSE</td><td>FALSE</td><td>FALSE</td></tr>\n",
       "\t<tr><td>FALSE</td><td>FALSE</td><td>FALSE</td><td>FALSE</td><td>FALSE</td></tr>\n",
       "\t<tr><td>FALSE</td><td>FALSE</td><td>FALSE</td><td>FALSE</td><td>FALSE</td></tr>\n",
       "\t<tr><td>FALSE</td><td>FALSE</td><td>FALSE</td><td>FALSE</td><td>FALSE</td></tr>\n",
       "\t<tr><td>FALSE</td><td>FALSE</td><td>FALSE</td><td>FALSE</td><td>FALSE</td></tr>\n",
       "\t<tr><td>FALSE</td><td>FALSE</td><td>FALSE</td><td>FALSE</td><td>FALSE</td></tr>\n",
       "\t<tr><td>FALSE</td><td>FALSE</td><td>FALSE</td><td>FALSE</td><td>FALSE</td></tr>\n",
       "\t<tr><td>FALSE</td><td>FALSE</td><td>FALSE</td><td>FALSE</td><td>FALSE</td></tr>\n",
       "\t<tr><td>FALSE</td><td>FALSE</td><td>FALSE</td><td>FALSE</td><td>FALSE</td></tr>\n",
       "</tbody>\n",
       "</table>\n"
      ],
      "text/latex": [
       "A matrix: 62203 × 5 of type lgl\n",
       "\\begin{tabular}{lllll}\n",
       " length & views & rate & ratings & comments\\\\\n",
       "\\hline\n",
       "\t FALSE & FALSE & FALSE & FALSE & FALSE\\\\\n",
       "\t FALSE & FALSE & FALSE & FALSE & FALSE\\\\\n",
       "\t FALSE & FALSE & FALSE & FALSE & FALSE\\\\\n",
       "\t FALSE & FALSE & FALSE & FALSE & FALSE\\\\\n",
       "\t FALSE & FALSE & FALSE & FALSE & FALSE\\\\\n",
       "\t FALSE & FALSE & FALSE & FALSE & FALSE\\\\\n",
       "\t FALSE & FALSE & FALSE & FALSE & FALSE\\\\\n",
       "\t FALSE & FALSE & FALSE & FALSE & FALSE\\\\\n",
       "\t FALSE & FALSE & FALSE & FALSE & FALSE\\\\\n",
       "\t FALSE & FALSE & FALSE & FALSE & FALSE\\\\\n",
       "\t FALSE & FALSE & FALSE & FALSE & FALSE\\\\\n",
       "\t FALSE & FALSE & FALSE & FALSE & FALSE\\\\\n",
       "\t FALSE & FALSE & FALSE & FALSE & FALSE\\\\\n",
       "\t FALSE & FALSE & FALSE & FALSE & FALSE\\\\\n",
       "\t FALSE & FALSE & FALSE & FALSE & FALSE\\\\\n",
       "\t FALSE & FALSE & FALSE & FALSE & FALSE\\\\\n",
       "\t FALSE & FALSE & FALSE & FALSE & FALSE\\\\\n",
       "\t FALSE & FALSE & FALSE & FALSE & FALSE\\\\\n",
       "\t FALSE & FALSE & FALSE & FALSE & FALSE\\\\\n",
       "\t FALSE & FALSE & FALSE & FALSE & FALSE\\\\\n",
       "\t FALSE & FALSE & FALSE & FALSE & FALSE\\\\\n",
       "\t FALSE & FALSE & FALSE & FALSE & FALSE\\\\\n",
       "\t  TRUE &  TRUE &  TRUE &  TRUE &  TRUE\\\\\n",
       "\t FALSE & FALSE & FALSE & FALSE & FALSE\\\\\n",
       "\t FALSE & FALSE & FALSE & FALSE & FALSE\\\\\n",
       "\t FALSE & FALSE & FALSE & FALSE & FALSE\\\\\n",
       "\t FALSE & FALSE & FALSE & FALSE & FALSE\\\\\n",
       "\t FALSE & FALSE & FALSE & FALSE & FALSE\\\\\n",
       "\t FALSE & FALSE & FALSE & FALSE & FALSE\\\\\n",
       "\t FALSE & FALSE & FALSE & FALSE & FALSE\\\\\n",
       "\t ⋮ & ⋮ & ⋮ & ⋮ & ⋮\\\\\n",
       "\t FALSE & FALSE & FALSE & FALSE & FALSE\\\\\n",
       "\t FALSE & FALSE & FALSE & FALSE & FALSE\\\\\n",
       "\t FALSE & FALSE & FALSE & FALSE & FALSE\\\\\n",
       "\t FALSE & FALSE & FALSE & FALSE & FALSE\\\\\n",
       "\t FALSE & FALSE & FALSE & FALSE & FALSE\\\\\n",
       "\t FALSE & FALSE & FALSE & FALSE & FALSE\\\\\n",
       "\t FALSE & FALSE & FALSE & FALSE & FALSE\\\\\n",
       "\t FALSE & FALSE & FALSE & FALSE & FALSE\\\\\n",
       "\t FALSE & FALSE & FALSE & FALSE & FALSE\\\\\n",
       "\t FALSE & FALSE & FALSE & FALSE & FALSE\\\\\n",
       "\t FALSE & FALSE & FALSE & FALSE & FALSE\\\\\n",
       "\t FALSE & FALSE & FALSE & FALSE & FALSE\\\\\n",
       "\t FALSE & FALSE & FALSE & FALSE & FALSE\\\\\n",
       "\t FALSE & FALSE & FALSE & FALSE & FALSE\\\\\n",
       "\t FALSE & FALSE & FALSE & FALSE & FALSE\\\\\n",
       "\t FALSE & FALSE & FALSE & FALSE & FALSE\\\\\n",
       "\t FALSE & FALSE & FALSE & FALSE & FALSE\\\\\n",
       "\t FALSE & FALSE & FALSE & FALSE & FALSE\\\\\n",
       "\t FALSE & FALSE & FALSE & FALSE & FALSE\\\\\n",
       "\t FALSE & FALSE & FALSE & FALSE & FALSE\\\\\n",
       "\t FALSE & FALSE & FALSE & FALSE & FALSE\\\\\n",
       "\t FALSE & FALSE & FALSE & FALSE & FALSE\\\\\n",
       "\t FALSE & FALSE & FALSE & FALSE & FALSE\\\\\n",
       "\t FALSE & FALSE & FALSE & FALSE & FALSE\\\\\n",
       "\t FALSE & FALSE & FALSE & FALSE & FALSE\\\\\n",
       "\t FALSE & FALSE & FALSE & FALSE & FALSE\\\\\n",
       "\t FALSE & FALSE & FALSE & FALSE & FALSE\\\\\n",
       "\t FALSE & FALSE & FALSE & FALSE & FALSE\\\\\n",
       "\t FALSE & FALSE & FALSE & FALSE & FALSE\\\\\n",
       "\t FALSE & FALSE & FALSE & FALSE & FALSE\\\\\n",
       "\\end{tabular}\n"
      ],
      "text/markdown": [
       "\n",
       "A matrix: 62203 × 5 of type lgl\n",
       "\n",
       "| length | views | rate | ratings | comments |\n",
       "|---|---|---|---|---|\n",
       "| FALSE | FALSE | FALSE | FALSE | FALSE |\n",
       "| FALSE | FALSE | FALSE | FALSE | FALSE |\n",
       "| FALSE | FALSE | FALSE | FALSE | FALSE |\n",
       "| FALSE | FALSE | FALSE | FALSE | FALSE |\n",
       "| FALSE | FALSE | FALSE | FALSE | FALSE |\n",
       "| FALSE | FALSE | FALSE | FALSE | FALSE |\n",
       "| FALSE | FALSE | FALSE | FALSE | FALSE |\n",
       "| FALSE | FALSE | FALSE | FALSE | FALSE |\n",
       "| FALSE | FALSE | FALSE | FALSE | FALSE |\n",
       "| FALSE | FALSE | FALSE | FALSE | FALSE |\n",
       "| FALSE | FALSE | FALSE | FALSE | FALSE |\n",
       "| FALSE | FALSE | FALSE | FALSE | FALSE |\n",
       "| FALSE | FALSE | FALSE | FALSE | FALSE |\n",
       "| FALSE | FALSE | FALSE | FALSE | FALSE |\n",
       "| FALSE | FALSE | FALSE | FALSE | FALSE |\n",
       "| FALSE | FALSE | FALSE | FALSE | FALSE |\n",
       "| FALSE | FALSE | FALSE | FALSE | FALSE |\n",
       "| FALSE | FALSE | FALSE | FALSE | FALSE |\n",
       "| FALSE | FALSE | FALSE | FALSE | FALSE |\n",
       "| FALSE | FALSE | FALSE | FALSE | FALSE |\n",
       "| FALSE | FALSE | FALSE | FALSE | FALSE |\n",
       "| FALSE | FALSE | FALSE | FALSE | FALSE |\n",
       "|  TRUE |  TRUE |  TRUE |  TRUE |  TRUE |\n",
       "| FALSE | FALSE | FALSE | FALSE | FALSE |\n",
       "| FALSE | FALSE | FALSE | FALSE | FALSE |\n",
       "| FALSE | FALSE | FALSE | FALSE | FALSE |\n",
       "| FALSE | FALSE | FALSE | FALSE | FALSE |\n",
       "| FALSE | FALSE | FALSE | FALSE | FALSE |\n",
       "| FALSE | FALSE | FALSE | FALSE | FALSE |\n",
       "| FALSE | FALSE | FALSE | FALSE | FALSE |\n",
       "| ⋮ | ⋮ | ⋮ | ⋮ | ⋮ |\n",
       "| FALSE | FALSE | FALSE | FALSE | FALSE |\n",
       "| FALSE | FALSE | FALSE | FALSE | FALSE |\n",
       "| FALSE | FALSE | FALSE | FALSE | FALSE |\n",
       "| FALSE | FALSE | FALSE | FALSE | FALSE |\n",
       "| FALSE | FALSE | FALSE | FALSE | FALSE |\n",
       "| FALSE | FALSE | FALSE | FALSE | FALSE |\n",
       "| FALSE | FALSE | FALSE | FALSE | FALSE |\n",
       "| FALSE | FALSE | FALSE | FALSE | FALSE |\n",
       "| FALSE | FALSE | FALSE | FALSE | FALSE |\n",
       "| FALSE | FALSE | FALSE | FALSE | FALSE |\n",
       "| FALSE | FALSE | FALSE | FALSE | FALSE |\n",
       "| FALSE | FALSE | FALSE | FALSE | FALSE |\n",
       "| FALSE | FALSE | FALSE | FALSE | FALSE |\n",
       "| FALSE | FALSE | FALSE | FALSE | FALSE |\n",
       "| FALSE | FALSE | FALSE | FALSE | FALSE |\n",
       "| FALSE | FALSE | FALSE | FALSE | FALSE |\n",
       "| FALSE | FALSE | FALSE | FALSE | FALSE |\n",
       "| FALSE | FALSE | FALSE | FALSE | FALSE |\n",
       "| FALSE | FALSE | FALSE | FALSE | FALSE |\n",
       "| FALSE | FALSE | FALSE | FALSE | FALSE |\n",
       "| FALSE | FALSE | FALSE | FALSE | FALSE |\n",
       "| FALSE | FALSE | FALSE | FALSE | FALSE |\n",
       "| FALSE | FALSE | FALSE | FALSE | FALSE |\n",
       "| FALSE | FALSE | FALSE | FALSE | FALSE |\n",
       "| FALSE | FALSE | FALSE | FALSE | FALSE |\n",
       "| FALSE | FALSE | FALSE | FALSE | FALSE |\n",
       "| FALSE | FALSE | FALSE | FALSE | FALSE |\n",
       "| FALSE | FALSE | FALSE | FALSE | FALSE |\n",
       "| FALSE | FALSE | FALSE | FALSE | FALSE |\n",
       "| FALSE | FALSE | FALSE | FALSE | FALSE |\n",
       "\n"
      ],
      "text/plain": [
       "      length views rate  ratings comments\n",
       " [1,] FALSE  FALSE FALSE FALSE   FALSE   \n",
       " [2,] FALSE  FALSE FALSE FALSE   FALSE   \n",
       " [3,] FALSE  FALSE FALSE FALSE   FALSE   \n",
       " [4,] FALSE  FALSE FALSE FALSE   FALSE   \n",
       " [5,] FALSE  FALSE FALSE FALSE   FALSE   \n",
       " [6,] FALSE  FALSE FALSE FALSE   FALSE   \n",
       " [7,] FALSE  FALSE FALSE FALSE   FALSE   \n",
       " [8,] FALSE  FALSE FALSE FALSE   FALSE   \n",
       " [9,] FALSE  FALSE FALSE FALSE   FALSE   \n",
       "[10,] FALSE  FALSE FALSE FALSE   FALSE   \n",
       "[11,] FALSE  FALSE FALSE FALSE   FALSE   \n",
       "[12,] FALSE  FALSE FALSE FALSE   FALSE   \n",
       "[13,] FALSE  FALSE FALSE FALSE   FALSE   \n",
       "[14,] FALSE  FALSE FALSE FALSE   FALSE   \n",
       "[15,] FALSE  FALSE FALSE FALSE   FALSE   \n",
       "[16,] FALSE  FALSE FALSE FALSE   FALSE   \n",
       "[17,] FALSE  FALSE FALSE FALSE   FALSE   \n",
       "[18,] FALSE  FALSE FALSE FALSE   FALSE   \n",
       "[19,] FALSE  FALSE FALSE FALSE   FALSE   \n",
       "[20,] FALSE  FALSE FALSE FALSE   FALSE   \n",
       "[21,] FALSE  FALSE FALSE FALSE   FALSE   \n",
       "[22,] FALSE  FALSE FALSE FALSE   FALSE   \n",
       "[23,]  TRUE   TRUE  TRUE  TRUE    TRUE   \n",
       "[24,] FALSE  FALSE FALSE FALSE   FALSE   \n",
       "[25,] FALSE  FALSE FALSE FALSE   FALSE   \n",
       "[26,] FALSE  FALSE FALSE FALSE   FALSE   \n",
       "[27,] FALSE  FALSE FALSE FALSE   FALSE   \n",
       "[28,] FALSE  FALSE FALSE FALSE   FALSE   \n",
       "[29,] FALSE  FALSE FALSE FALSE   FALSE   \n",
       "[30,] FALSE  FALSE FALSE FALSE   FALSE   \n",
       "[31,] ⋮      ⋮     ⋮     ⋮       ⋮       \n",
       "[32,] FALSE  FALSE FALSE FALSE   FALSE   \n",
       "[33,] FALSE  FALSE FALSE FALSE   FALSE   \n",
       "[34,] FALSE  FALSE FALSE FALSE   FALSE   \n",
       "[35,] FALSE  FALSE FALSE FALSE   FALSE   \n",
       "[36,] FALSE  FALSE FALSE FALSE   FALSE   \n",
       "[37,] FALSE  FALSE FALSE FALSE   FALSE   \n",
       "[38,] FALSE  FALSE FALSE FALSE   FALSE   \n",
       "[39,] FALSE  FALSE FALSE FALSE   FALSE   \n",
       "[40,] FALSE  FALSE FALSE FALSE   FALSE   \n",
       "[41,] FALSE  FALSE FALSE FALSE   FALSE   \n",
       "[42,] FALSE  FALSE FALSE FALSE   FALSE   \n",
       "[43,] FALSE  FALSE FALSE FALSE   FALSE   \n",
       "[44,] FALSE  FALSE FALSE FALSE   FALSE   \n",
       "[45,] FALSE  FALSE FALSE FALSE   FALSE   \n",
       "[46,] FALSE  FALSE FALSE FALSE   FALSE   \n",
       "[47,] FALSE  FALSE FALSE FALSE   FALSE   \n",
       "[48,] FALSE  FALSE FALSE FALSE   FALSE   \n",
       "[49,] FALSE  FALSE FALSE FALSE   FALSE   \n",
       "[50,] FALSE  FALSE FALSE FALSE   FALSE   \n",
       "[51,] FALSE  FALSE FALSE FALSE   FALSE   \n",
       "[52,] FALSE  FALSE FALSE FALSE   FALSE   \n",
       "[53,] FALSE  FALSE FALSE FALSE   FALSE   \n",
       "[54,] FALSE  FALSE FALSE FALSE   FALSE   \n",
       "[55,] FALSE  FALSE FALSE FALSE   FALSE   \n",
       "[56,] FALSE  FALSE FALSE FALSE   FALSE   \n",
       "[57,] FALSE  FALSE FALSE FALSE   FALSE   \n",
       "[58,] FALSE  FALSE FALSE FALSE   FALSE   \n",
       "[59,] FALSE  FALSE FALSE FALSE   FALSE   \n",
       "[60,] FALSE  FALSE FALSE FALSE   FALSE   \n",
       "[61,] FALSE  FALSE FALSE FALSE   FALSE   "
      ]
     },
     "metadata": {},
     "output_type": "display_data"
    },
    {
     "data": {
      "text/html": [
       "TRUE"
      ],
      "text/latex": [
       "TRUE"
      ],
      "text/markdown": [
       "TRUE"
      ],
      "text/plain": [
       "[1] TRUE"
      ]
     },
     "metadata": {},
     "output_type": "display_data"
    }
   ],
   "source": [
    "#Read the data\n",
    "data2007 <- read.csv(\"data/datatable2007.txt\",sep=\"\")\n",
    "na.omit(is.na(data2007))\n",
    "is.data.frame(data2007)"
   ]
  },
  {
   "cell_type": "code",
   "execution_count": 10,
   "id": "3f72ebb2-cd73-4f51-928d-a1b5ead2dadb",
   "metadata": {},
   "outputs": [
    {
     "data": {
      "image/png": "[encoded data removed]",
      "text/plain": [
       "Plot with title \"Views vs Comments\""
      ]
     },
     "metadata": {
      "image/png": {
       "height": 420,
       "width": 420
      }
     },
     "output_type": "display_data"
    }
   ],
   "source": [
    "#Observe the explanatory variables individually against the predictor, views.\n",
    "par(mfrow=c(2,2))\n",
    "plot(data2007$length,data2007$views, ylab = 'Views', xlab = 'Length', main = 'Views vs Length')\n",
    "plot(data2007$rate,data2007$views, ylab = 'Views', xlab = 'Rate', main = 'Views vs Rate')\n",
    "plot(data2007$ratings,data2007$views, ylab = 'Views', xlab = 'Ratings', main = 'Views vs Ratings')\n",
    "plot(data2007$comments,data2007$views, ylab = 'Views', xlab = 'Comments', main = 'Views vs Comments')"
   ]
  },
  {
   "cell_type": "code",
   "execution_count": 62,
   "id": "4f7ef02b-b079-44cf-b643-00fe22dd37d9",
   "metadata": {},
   "outputs": [
    {
     "data": {
      "text/html": [
       "6528.13985098022"
      ],
      "text/latex": [
       "6528.13985098022"
      ],
      "text/markdown": [
       "6528.13985098022"
      ],
      "text/plain": [
       "[1] 6528.14"
      ]
     },
     "metadata": {},
     "output_type": "display_data"
    }
   ],
   "source": [
    "rownum <- sample(1:nrow(data2007), 0.75*nrow(data2007))\n",
    "train <- data2007[rownum,]\n",
    "test <- data2007[-rownum,]"
   ]
  },
  {
   "cell_type": "markdown",
   "id": "c3f5b56b-9e56-451e-a9b0-bb2cc51c4560",
   "metadata": {},
   "source": [
    "It appears that the explanatory variables do not have a linear relationship with the predictor variable."
   ]
  },
  {
   "cell_type": "code",
   "execution_count": 49,
   "id": "4ef25367-2b1f-4d98-bb8a-e3dd157480b5",
   "metadata": {},
   "outputs": [
    {
     "data": {
      "text/plain": [
       "\n",
       "Call:\n",
       "lm(formula = views ~ ., data = train)\n",
       "\n",
       "Residuals:\n",
       "    Min      1Q  Median      3Q     Max \n",
       "-392891   -2783   -1454    -209 1770727 \n",
       "\n",
       "Coefficients:\n",
       "             Estimate Std. Error t value Pr(>|t|)    \n",
       "(Intercept) 1548.0894   206.9578   7.480 7.55e-14 ***\n",
       "length        -4.7790     0.4813  -9.930  < 2e-16 ***\n",
       "rate         303.3353    49.8441   6.086 1.17e-09 ***\n",
       "ratings      271.6657     2.5530 106.411  < 2e-16 ***\n",
       "comments      38.7290     3.7194  10.413  < 2e-16 ***\n",
       "---\n",
       "Signif. codes:  0 '***' 0.001 '**' 0.01 '*' 0.05 '.' 0.1 ' ' 1\n",
       "\n",
       "Residual standard error: 19590 on 46568 degrees of freedom\n",
       "  (79 observations deleted due to missingness)\n",
       "Multiple R-squared:  0.3735,\tAdjusted R-squared:  0.3735 \n",
       "F-statistic:  6942 on 4 and 46568 DF,  p-value: < 2.2e-16\n"
      ]
     },
     "metadata": {},
     "output_type": "display_data"
    }
   ],
   "source": [
    "# Perform linear regression\n",
    "mod <- lm(views~.,train)\n",
    "summary(mod)"
   ]
  },
  {
   "cell_type": "markdown",
   "id": "a219cdf7-4caf-4bea-ba28-d2d477feff22",
   "metadata": {},
   "source": [
    "Although there is a low p-value for the coefficients, the adjusted R-squared value is not particularly high and an extremely high standard error."
   ]
  },
  {
   "cell_type": "code",
   "execution_count": 86,
   "id": "6df4ef5c-8c49-4d0e-8aa2-65cb605ab38a",
   "metadata": {},
   "outputs": [
    {
     "data": {
      "text/plain": [
       "   Min. 1st Qu.  Median    Mean 3rd Qu.    Max.    NA's \n",
       " -15781    1973    3418    6525    6197  635024      21 "
      ]
     },
     "metadata": {},
     "output_type": "display_data"
    },
    {
     "data": {
      "text/html": [
       "TRUE"
      ],
      "text/latex": [
       "TRUE"
      ],
      "text/markdown": [
       "TRUE"
      ],
      "text/plain": [
       "[1] TRUE"
      ]
     },
     "metadata": {},
     "output_type": "display_data"
    },
    {
     "data": {
      "text/html": [
       "15551"
      ],
      "text/latex": [
       "15551"
      ],
      "text/markdown": [
       "15551"
      ],
      "text/plain": [
       "[1] 15551"
      ]
     },
     "metadata": {},
     "output_type": "display_data"
    },
    {
     "data": {
      "text/html": [
       "15551"
      ],
      "text/latex": [
       "15551"
      ],
      "text/markdown": [
       "15551"
      ],
      "text/plain": [
       "[1] 15551"
      ]
     },
     "metadata": {},
     "output_type": "display_data"
    }
   ],
   "source": [
    "#Lets predict the number of views\n",
    "prediction <- predict(mod,test)\n",
    "summary(prediction)"
   ]
  },
  {
   "cell_type": "code",
   "execution_count": 89,
   "id": "9e5fdb59-5ff3-4346-840f-c4badcf3695f",
   "metadata": {},
   "outputs": [
    {
     "data": {
      "text/html": [
       "18143.5241180562"
      ],
      "text/latex": [
       "18143.5241180562"
      ],
      "text/markdown": [
       "18143.5241180562"
      ],
      "text/plain": [
       "[1] 18143.52"
      ]
     },
     "metadata": {},
     "output_type": "display_data"
    },
    {
     "data": {
      "text/html": [
       "18143.5241180562"
      ],
      "text/latex": [
       "18143.5241180562"
      ],
      "text/markdown": [
       "18143.5241180562"
      ],
      "text/plain": [
       "[1] 18143.52"
      ]
     },
     "metadata": {},
     "output_type": "display_data"
    }
   ],
   "source": [
    "#Calculate the RMSE\n",
    "prediction <- na.omit(prediction)\n",
    "test$views <- na.omit(test$views)\n",
    "rmse <- sqrt(mean((test$views - prediction)^2))\n",
    "rmse"
   ]
  },
  {
   "cell_type": "markdown",
   "id": "6c5c0d7a-03af-4c8f-9a75-18f345e628a9",
   "metadata": {},
   "source": [
    "It seems like the residual mean squared error is enormously high, which provides a good indication that this linear regression model is not well fitted."
   ]
  },
  {
   "cell_type": "code",
   "execution_count": null,
   "id": "9e06193a-7ace-4f54-99df-4db00a04326a",
   "metadata": {},
   "outputs": [],
   "source": []
  }
 ],
 "metadata": {
  "kernelspec": {
   "display_name": "R",
   "language": "R",
   "name": "ir"
  },
  "language_info": {
   "codemirror_mode": "r",
   "file_extension": ".r",
   "mimetype": "text/x-r-source",
   "name": "R",
   "pygments_lexer": "r",
   "version": "4.2.2"
  }
 },
 "nbformat": 4,
 "nbformat_minor": 5
}
