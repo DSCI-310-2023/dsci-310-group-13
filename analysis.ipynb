{
 "cells": [
  {
   "cell_type": "markdown",
   "id": "575095a9-5392-428e-a91c-60874cd452f1",
   "metadata": {},
   "source": [
    "# Predicting Youtube View Count in 2007/2008"
   ]
  },
  {
   "cell_type": "markdown",
   "id": "29ee3e0f-c2fe-4b60-928f-189ab2df2438",
   "metadata": {},
   "source": [
    "### Introduction\n",
    "\n",
    "After being acquired by Google in 2006, Youtube obtained a rapid growth in popularity resulting in a growing community. In 2022, Youtube was the second most trafficked site in the world, only behind Google, sitting at 74.8 billion visited worldwide according to Statista. Some people may have wondered if they could persue Youtube as a potential career. As a result, researching about certain analytics would drive their videos to go \"viral\" as we know today. Youtube only displays a certain amount of data for the viewers on first glance. While certain features of Youtube have since been removed since 2007 to 2008, most notibly the rating feature, the dataset we have chosen still includes the information, and we will be utilizing it in our analysis. Below included is a screenshot of what an example Youtube webpage would look like in 2007.\n",
    "\n"
   ]
  },
  {
   "cell_type": "markdown",
   "id": "f403336c-710c-4353-b4b0-89740d56e6bc",
   "metadata": {},
   "source": [
    "<img src=\"https://preview.redd.it/165ijbwo32171.png?auto=webp&s=5c00315a5a37d5e6fc2c37c5ddfa58df8f295aba\"\n",
    "     alt=\"Youtube in 2007\"\n",
    "    width=\"500\" height=\"300\"/>"
   ]
  },
  {
   "cell_type": "markdown",
   "id": "5b377dd7-e86e-4c51-bf4c-477d8c7ceed2",
   "metadata": {},
   "source": [
    " **The goal of this project is to use the data of 2007 to predict the view of videos in 2008.** \n",
    "\n",
    "We will be using datasets from https://netsg.cs.sfu.ca/youtubedata/. This website compiles data from 2007 to 2008 of all Youtube videos crawled on their website. The process of which is described in more detail on the actual website. Just know that the key categories parsed are video ID, uploader, **age**, category, **length**, **views**, **rate**, **rating**, **comment count** and related IDs, but only the points in **bold** will be explored in this analysis.\n",
    "\n",
    "The two days we have chosen are May 5th, 2007 and May 4th, 2008. The reason for picking these two days is bceause these days are weekends, and both should represent a normal Youtube traffick day, i.e, it is not a day in which there is a holiday or otherwise that would significantly increase Youtube view count on those specific days.\n",
    " "
   ]
  },
  {
   "cell_type": "markdown",
   "id": "9a7fca44-4881-4067-ad17-85feae662658",
   "metadata": {
    "tags": []
   },
   "source": [
    "##### **“Discovering the major sources that drive views to a video and understanding how they impact the view growth pattern have become interesting topics for researchers as well as advertisers, media companies, or anyone who wish to have a shortcut to stardom”. (Zhou et al., 2016)**\n",
    "\n"
   ]
  },
  {
   "cell_type": "code",
   "execution_count": null,
   "id": "251d7f5d-4270-40bf-aedc-dda171cbdf45",
   "metadata": {},
   "outputs": [],
   "source": [
    "## TODO\n",
    "-ways to improve model -> added a bit, maybe add more\n",
    "-need to do discussion -> did not cover whether it was expected or not\n",
    "-maybe log some explanatory variables -> there's infinity so get rid of them maybe(justify: outliers?)"
   ]
  },
  {
   "cell_type": "markdown",
   "id": "27a3669b-363f-4978-9194-508b43271bd6",
   "metadata": {},
   "source": [
    "### Methods"
   ]
  },
  {
   "cell_type": "code",
   "execution_count": 22,
   "id": "7a44736e-48ad-44e1-a881-33afab3d98a0",
   "metadata": {},
   "outputs": [
    {
     "name": "stderr",
     "output_type": "stream",
     "text": [
      "── \u001b[1mAttaching packages\u001b[22m ────────────────────────────────────────────────────────────────────────────── tidymodels 1.0.0 ──\n",
      "\n",
      "\u001b[32m✔\u001b[39m \u001b[34mbroom       \u001b[39m 1.0.2     \u001b[32m✔\u001b[39m \u001b[34mrsample     \u001b[39m 1.1.1\n",
      "\u001b[32m✔\u001b[39m \u001b[34mdials       \u001b[39m 1.1.0     \u001b[32m✔\u001b[39m \u001b[34mtune        \u001b[39m 1.0.1\n",
      "\u001b[32m✔\u001b[39m \u001b[34minfer       \u001b[39m 1.0.4     \u001b[32m✔\u001b[39m \u001b[34mworkflows   \u001b[39m 1.1.2\n",
      "\u001b[32m✔\u001b[39m \u001b[34mmodeldata   \u001b[39m 1.0.1     \u001b[32m✔\u001b[39m \u001b[34mworkflowsets\u001b[39m 1.0.0\n",
      "\u001b[32m✔\u001b[39m \u001b[34mparsnip     \u001b[39m 1.0.3     \u001b[32m✔\u001b[39m \u001b[34myardstick   \u001b[39m 1.1.0\n",
      "\u001b[32m✔\u001b[39m \u001b[34mrecipes     \u001b[39m 1.0.3     \n",
      "\n",
      "── \u001b[1mConflicts\u001b[22m ───────────────────────────────────────────────────────────────────────────────── tidymodels_conflicts() ──\n",
      "\u001b[31m✖\u001b[39m \u001b[34mscales\u001b[39m::\u001b[32mdiscard()\u001b[39m masks \u001b[34mpurrr\u001b[39m::discard()\n",
      "\u001b[31m✖\u001b[39m \u001b[34mdplyr\u001b[39m::\u001b[32mfilter()\u001b[39m   masks \u001b[34mstats\u001b[39m::filter()\n",
      "\u001b[31m✖\u001b[39m \u001b[34mrecipes\u001b[39m::\u001b[32mfixed()\u001b[39m  masks \u001b[34mstringr\u001b[39m::fixed()\n",
      "\u001b[31m✖\u001b[39m \u001b[34mdplyr\u001b[39m::\u001b[32mlag()\u001b[39m      masks \u001b[34mstats\u001b[39m::lag()\n",
      "\u001b[31m✖\u001b[39m \u001b[34mcar\u001b[39m::\u001b[32mrecode()\u001b[39m     masks \u001b[34mdplyr\u001b[39m::recode()\n",
      "\u001b[31m✖\u001b[39m \u001b[34mcar\u001b[39m::\u001b[32msome()\u001b[39m       masks \u001b[34mpurrr\u001b[39m::some()\n",
      "\u001b[31m✖\u001b[39m \u001b[34myardstick\u001b[39m::\u001b[32mspec()\u001b[39m masks \u001b[34mreadr\u001b[39m::spec()\n",
      "\u001b[31m✖\u001b[39m \u001b[34mrecipes\u001b[39m::\u001b[32mstep()\u001b[39m   masks \u001b[34mstats\u001b[39m::step()\n",
      "\u001b[34m•\u001b[39m Use suppressPackageStartupMessages() to eliminate package startup messages\n",
      "\n"
     ]
    }
   ],
   "source": [
    "# Setup\n",
    "library(tidyverse)\n",
    "library(tidymodels)\n",
    "library(corrplot)\n",
    "library(car)\n",
    "library(leaps)"
   ]
  },
  {
   "cell_type": "code",
   "execution_count": 38,
   "id": "2727004f-7afd-483a-ad7f-f8e9c84d6d8e",
   "metadata": {},
   "outputs": [],
   "source": [
    "# Load in May 5th 2007 data\n",
    "table0007 <- read.delim(\"data/0007.txt\", header = FALSE, sep = \"\\t\", dec = \".\")\n",
    "table0107 <- read.delim(\"data/0107.txt\", header = FALSE, sep = \"\\t\", dec = \".\")\n",
    "table0207 <- read.delim(\"data/0207.txt\", header = FALSE, sep = \"\\t\", dec = \".\")\n",
    "table0307 <- read.delim(\"data/0307.txt\", header = FALSE, sep = \"\\t\", dec = \".\")\n",
    "\n",
    "data2007 <- rbind(table0007,table0107,table0207, table0307)|> na.omit()\n",
    "colnames(data2007) <- c(\"Video ID\", \"uploader\", \"age\", 'category','length','views','rate','ratings','comments','related IDs')\n",
    "\n",
    "# Load in May 4th 2008 data\n",
    "table0008 <- read.delim(\"data/0008.txt\", header = FALSE, sep = \"\\t\", dec = \".\")\n",
    "table0108 <- read.delim(\"data/0108.txt\", header = FALSE, sep = \"\\t\", dec = \".\")\n",
    "table0208 <- read.delim(\"data/0208.txt\", header = FALSE, sep = \"\\t\", dec = \".\")\n",
    "table0308 <- read.delim(\"data/0308.txt\", header = FALSE, sep = \"\\t\", dec = \".\")\n",
    "\n",
    "data2008 <- rbind(table0008,table0108,table0208, table0308)|> na.omit()\n",
    "colnames(data2008) <- c(\"Video ID\", \"uploader\", \"age\", 'category','length','views','rate','ratings','comments','related IDs')\n"
   ]
  },
  {
   "cell_type": "markdown",
   "id": "da0d45cd-9eb2-43c1-9a20-0262d30493bd",
   "metadata": {},
   "source": [
    "#### Wrangling data\n",
    "We decide to immediately remove some of the variables presented in the datasets. This included `uploader`,`video ID`, and `related IDs` because these variables appear to be unique to the videos itself and not affect video views as a whole."
   ]
  },
  {
   "cell_type": "code",
   "execution_count": 39,
   "id": "94f7f37d-6c7a-407d-b166-b1d2c6ce71e0",
   "metadata": {},
   "outputs": [
    {
     "data": {
      "text/html": [
       "<table class=\"dataframe\">\n",
       "<caption>A data.frame: 6 × 7</caption>\n",
       "<thead>\n",
       "\t<tr><th></th><th scope=col>age</th><th scope=col>category</th><th scope=col>length</th><th scope=col>views</th><th scope=col>rate</th><th scope=col>ratings</th><th scope=col>comments</th></tr>\n",
       "\t<tr><th></th><th scope=col>&lt;dbl&gt;</th><th scope=col>&lt;fct&gt;</th><th scope=col>&lt;int&gt;</th><th scope=col>&lt;int&gt;</th><th scope=col>&lt;dbl&gt;</th><th scope=col>&lt;int&gt;</th><th scope=col>&lt;int&gt;</th></tr>\n",
       "</thead>\n",
       "<tbody>\n",
       "\t<tr><th scope=row>1</th><td>807</td><td>Entertainment  </td><td> 28</td><td>1393810</td><td>4.16</td><td>1397</td><td>2888</td></tr>\n",
       "\t<tr><th scope=row>2</th><td>808</td><td>News &amp; Politics</td><td>133</td><td> 208383</td><td>3.47</td><td> 318</td><td> 769</td></tr>\n",
       "\t<tr><th scope=row>3</th><td>807</td><td>People &amp; Blogs </td><td> 28</td><td> 135882</td><td>3.89</td><td><span style=white-space:pre-wrap>  92</span></td><td> 276</td></tr>\n",
       "\t<tr><th scope=row>4</th><td>807</td><td><span style=white-space:pre-wrap>Howto &amp; DIY    </span></td><td> 41</td><td> 153590</td><td>1.58</td><td>2074</td><td>1230</td></tr>\n",
       "\t<tr><th scope=row>5</th><td>807</td><td>Sports         </td><td> 99</td><td>  92520</td><td>2.32</td><td>  78</td><td> 155</td></tr>\n",
       "\t<tr><th scope=row>6</th><td>807</td><td>Entertainment  </td><td> 28</td><td> 115085</td><td>3.73</td><td>  84</td><td> 207</td></tr>\n",
       "</tbody>\n",
       "</table>\n"
      ],
      "text/latex": [
       "A data.frame: 6 × 7\n",
       "\\begin{tabular}{r|lllllll}\n",
       "  & age & category & length & views & rate & ratings & comments\\\\\n",
       "  & <dbl> & <fct> & <int> & <int> & <dbl> & <int> & <int>\\\\\n",
       "\\hline\n",
       "\t1 & 807 & Entertainment   &  28 & 1393810 & 4.16 & 1397 & 2888\\\\\n",
       "\t2 & 808 & News \\& Politics & 133 &  208383 & 3.47 &  318 &  769\\\\\n",
       "\t3 & 807 & People \\& Blogs  &  28 &  135882 & 3.89 &   92 &  276\\\\\n",
       "\t4 & 807 & Howto \\& DIY     &  41 &  153590 & 1.58 & 2074 & 1230\\\\\n",
       "\t5 & 807 & Sports          &  99 &   92520 & 2.32 &   78 &  155\\\\\n",
       "\t6 & 807 & Entertainment   &  28 &  115085 & 3.73 &   84 &  207\\\\\n",
       "\\end{tabular}\n"
      ],
      "text/markdown": [
       "\n",
       "A data.frame: 6 × 7\n",
       "\n",
       "| <!--/--> | age &lt;dbl&gt; | category &lt;fct&gt; | length &lt;int&gt; | views &lt;int&gt; | rate &lt;dbl&gt; | ratings &lt;int&gt; | comments &lt;int&gt; |\n",
       "|---|---|---|---|---|---|---|---|\n",
       "| 1 | 807 | Entertainment   |  28 | 1393810 | 4.16 | 1397 | 2888 |\n",
       "| 2 | 808 | News &amp; Politics | 133 |  208383 | 3.47 |  318 |  769 |\n",
       "| 3 | 807 | People &amp; Blogs  |  28 |  135882 | 3.89 |   92 |  276 |\n",
       "| 4 | 807 | Howto &amp; DIY     |  41 |  153590 | 1.58 | 2074 | 1230 |\n",
       "| 5 | 807 | Sports          |  99 |   92520 | 2.32 |   78 |  155 |\n",
       "| 6 | 807 | Entertainment   |  28 |  115085 | 3.73 |   84 |  207 |\n",
       "\n"
      ],
      "text/plain": [
       "  age category        length views   rate ratings comments\n",
       "1 807 Entertainment    28    1393810 4.16 1397    2888    \n",
       "2 808 News & Politics 133     208383 3.47  318     769    \n",
       "3 807 People & Blogs   28     135882 3.89   92     276    \n",
       "4 807 Howto & DIY      41     153590 1.58 2074    1230    \n",
       "5 807 Sports           99      92520 2.32   78     155    \n",
       "6 807 Entertainment    28     115085 3.73   84     207    "
      ]
     },
     "metadata": {},
     "output_type": "display_data"
    }
   ],
   "source": [
    "# Remove unnecessary data and convert category variable as factor class\n",
    "data2007 <- data2007|> select(-c(1,2,10:29)) |> mutate(category = as.factor(category))\n",
    "data2008 <- data2008 |>  select(-c(1,2,10:29)) |> mutate(category = as.factor(category))\n",
    "head(data2007)"
   ]
  },
  {
   "cell_type": "markdown",
   "id": "a02f42b1-e02c-4080-bcf2-6868bf0639ad",
   "metadata": {},
   "source": [
    "**Table 1:** The dataset obtained uses a crawler to obtained video API and scrape the webpage for the remaining information.\n",
    "\n",
    "**Age:** an integer number of days between the date when the video was uploaded and Feb.15, 2007\n",
    "\n",
    "**Category:** string of the video category chosen by the uploader\n",
    "\n",
    "**Length:** integer number of the video length\n",
    "\n",
    "**Views:** integer number of the views\n",
    "\n",
    "**Rate:** float number of the video rate\n",
    "\n",
    "**Ratings:** integer number of the ratings\n",
    "\n",
    "**Comments:** integer number of the comments"
   ]
  },
  {
   "cell_type": "markdown",
   "id": "fcb08ddb-0dfd-4c25-a88b-6e0b307ab908",
   "metadata": {},
   "source": [
    "### Preliminary Analysis"
   ]
  },
  {
   "cell_type": "code",
   "execution_count": 4,
   "id": "08f929b3-a960-4813-b476-7423bf43d56f",
   "metadata": {},
   "outputs": [
    {
     "data": {
      "image/png": "[encoded data removed]",
      "text/plain": [
       "plot without title"
      ]
     },
     "metadata": {
      "image/png": {
       "height": 420,
       "width": 420
      }
     },
     "output_type": "display_data"
    }
   ],
   "source": [
    "# Observe the explanatory variables individually against the predictor\n",
    "pivot_longer(data2007,-c(views,category))|> \n",
    "    ggplot(aes(value,views,color=name)) +\n",
    "    geom_point() +\n",
    "    facet_wrap(~name, scales ='free',strip.position='bottom') + \n",
    "    scale_color_viridis_d() + \n",
    "    xlab(\"\") + ylab(\"views\")"
   ]
  },
  {
   "cell_type": "markdown",
   "id": "fc2dab16-7518-4481-9295-50afebac084d",
   "metadata": {},
   "source": [
    "**Figure 1:** Plot of `views` against the quantitative explanatory variables\n",
    "\n",
    "We can observe that most variables do not a have linear relationship with the predictor variable, only `ratings` has a slight positive linear relationship. Some variables like `length` and `comments` may benefit from a logarithmic transformation."
   ]
  },
  {
   "cell_type": "code",
   "execution_count": 8,
   "id": "a3989473-4dc9-4aa5-9fd5-b7106597e29e",
   "metadata": {},
   "outputs": [
    {
     "data": {
      "image/png": "[encoded data removed]",
      "text/plain": [
       "plot without title"
      ]
     },
     "metadata": {
      "image/png": {
       "height": 420,
       "width": 420
      }
     },
     "output_type": "display_data"
    }
   ],
   "source": [
    "ggplot(data2007, aes(category,views, fill = category))+ geom_bar(stat = 'identity')+coord_flip() +\n",
    "labs(x = \"Views\", y = \"Category\", fill = \"Category Against Number of Views\")"
   ]
  },
  {
   "cell_type": "markdown",
   "id": "75f81d95-9217-4c98-bffc-a76ea7a92f8a",
   "metadata": {},
   "source": [
    "**Figure 2:** Plot of the number of views garnered by each type of category."
   ]
  },
  {
   "cell_type": "code",
   "execution_count": 24,
   "id": "67a942ad-08f2-4c9d-95bb-e831f0226d82",
   "metadata": {},
   "outputs": [
    {
     "data": {
      "image/png": "[encoded data removed]",
      "text/plain": [
       "Plot with title \"\""
      ]
     },
     "metadata": {
      "image/png": {
       "height": 420,
       "width": 420
      }
     },
     "output_type": "display_data"
    }
   ],
   "source": [
    "# Correlation plot\n",
    "corrvar <- data2007|> select(-c(2))|> cor()\n",
    "corrplot(corrvar, method = 'number')"
   ]
  },
  {
   "cell_type": "markdown",
   "id": "585d0715-df12-4188-88c8-20d85017dc80",
   "metadata": {},
   "source": [
    "**Figure 3:** Correlation plot of the predictor and the explanatory variables, excluding `category`\n",
    "\n",
    "Taking a look at the correlation plot, we can see that `ratings` and `comments` have the strong positive relationship with the predictive variable `views`. Meanwhile, the other explanatory variables have a very weak relationship with `views`. `ratings` has a positive correlation with `view` and `comments` too. Because there are explanatory variables with correlation against each other, we check if multicollinearity is significant by taking a look at the VIF scores."
   ]
  },
  {
   "cell_type": "code",
   "execution_count": 13,
   "id": "a257cc8b-1c79-470f-9ac2-1591b4f5a1fa",
   "metadata": {},
   "outputs": [
    {
     "data": {
      "text/html": [
       "<table class=\"dataframe\">\n",
       "<caption>A matrix: 6 × 3 of type dbl</caption>\n",
       "<thead>\n",
       "\t<tr><th></th><th scope=col>GVIF</th><th scope=col>Df</th><th scope=col>GVIF^(1/(2*Df))</th></tr>\n",
       "</thead>\n",
       "<tbody>\n",
       "\t<tr><th scope=row>age</th><td>1.403040</td><td> 1</td><td>1.184500</td></tr>\n",
       "\t<tr><th scope=row>category</th><td>1.456405</td><td>12</td><td>1.015789</td></tr>\n",
       "\t<tr><th scope=row>length</th><td>1.063942</td><td> 1</td><td>1.031476</td></tr>\n",
       "\t<tr><th scope=row>rate</th><td>1.090254</td><td> 1</td><td>1.044152</td></tr>\n",
       "\t<tr><th scope=row>ratings</th><td>2.261319</td><td> 1</td><td>1.503768</td></tr>\n",
       "\t<tr><th scope=row>comments</th><td>2.168201</td><td> 1</td><td>1.472481</td></tr>\n",
       "</tbody>\n",
       "</table>\n"
      ],
      "text/latex": [
       "A matrix: 6 × 3 of type dbl\n",
       "\\begin{tabular}{r|lll}\n",
       "  & GVIF & Df & GVIF\\textasciicircum{}(1/(2*Df))\\\\\n",
       "\\hline\n",
       "\tage & 1.403040 &  1 & 1.184500\\\\\n",
       "\tcategory & 1.456405 & 12 & 1.015789\\\\\n",
       "\tlength & 1.063942 &  1 & 1.031476\\\\\n",
       "\trate & 1.090254 &  1 & 1.044152\\\\\n",
       "\tratings & 2.261319 &  1 & 1.503768\\\\\n",
       "\tcomments & 2.168201 &  1 & 1.472481\\\\\n",
       "\\end{tabular}\n"
      ],
      "text/markdown": [
       "\n",
       "A matrix: 6 × 3 of type dbl\n",
       "\n",
       "| <!--/--> | GVIF | Df | GVIF^(1/(2*Df)) |\n",
       "|---|---|---|---|\n",
       "| age | 1.403040 |  1 | 1.184500 |\n",
       "| category | 1.456405 | 12 | 1.015789 |\n",
       "| length | 1.063942 |  1 | 1.031476 |\n",
       "| rate | 1.090254 |  1 | 1.044152 |\n",
       "| ratings | 2.261319 |  1 | 1.503768 |\n",
       "| comments | 2.168201 |  1 | 1.472481 |\n",
       "\n"
      ],
      "text/plain": [
       "         GVIF     Df GVIF^(1/(2*Df))\n",
       "age      1.403040  1 1.184500       \n",
       "category 1.456405 12 1.015789       \n",
       "length   1.063942  1 1.031476       \n",
       "rate     1.090254  1 1.044152       \n",
       "ratings  2.261319  1 1.503768       \n",
       "comments 2.168201  1 1.472481       "
      ]
     },
     "metadata": {},
     "output_type": "display_data"
    }
   ],
   "source": [
    "vif(lm(views~.,data2007))"
   ]
  },
  {
   "cell_type": "markdown",
   "id": "a7cb4945-7500-4eb7-bb88-ecceed54a9bc",
   "metadata": {},
   "source": [
    "**Table 2:** VIF values of the explanatory variables\n",
    "\n",
    "The VIF values of the variables are not particularly big, so multicollinearity would not affect the model significantly. "
   ]
  },
  {
   "cell_type": "markdown",
   "id": "f59f4e7e-c0ed-4d0c-98d1-688fe4118d85",
   "metadata": {},
   "source": [
    "### Model Selection"
   ]
  },
  {
   "cell_type": "code",
   "execution_count": 50,
   "id": "a6cdbaa0-6a5a-4e07-9c8b-284c7153d873",
   "metadata": {},
   "outputs": [
    {
     "data": {
      "text/plain": [
       "Subset selection object\n",
       "Call: regsubsets.formula(views ~ ., data2007, method = \"exhaustive\")\n",
       "17 Variables  (and intercept)\n",
       "                         Forced in Forced out\n",
       "age                          FALSE      FALSE\n",
       "categoryAutos & Vehicles     FALSE      FALSE\n",
       "categoryComedy               FALSE      FALSE\n",
       "categoryEntertainment        FALSE      FALSE\n",
       "categoryFilm & Animation     FALSE      FALSE\n",
       "categoryGadgets & Games      FALSE      FALSE\n",
       "categoryHowto & DIY          FALSE      FALSE\n",
       "categoryMusic                FALSE      FALSE\n",
       "categoryNews & Politics      FALSE      FALSE\n",
       "categoryPeople & Blogs       FALSE      FALSE\n",
       "categoryPets & Animals       FALSE      FALSE\n",
       "categorySports               FALSE      FALSE\n",
       "categoryTravel & Places      FALSE      FALSE\n",
       "length                       FALSE      FALSE\n",
       "rate                         FALSE      FALSE\n",
       "ratings                      FALSE      FALSE\n",
       "comments                     FALSE      FALSE\n",
       "1 subsets of each size up to 8\n",
       "Selection Algorithm: exhaustive\n",
       "         age categoryAutos & Vehicles categoryComedy categoryEntertainment\n",
       "1  ( 1 ) \" \" \" \"                      \" \"            \" \"                  \n",
       "2  ( 1 ) \"*\" \" \"                      \" \"            \" \"                  \n",
       "3  ( 1 ) \"*\" \" \"                      \" \"            \" \"                  \n",
       "4  ( 1 ) \"*\" \" \"                      \" \"            \" \"                  \n",
       "5  ( 1 ) \"*\" \" \"                      \" \"            \" \"                  \n",
       "6  ( 1 ) \"*\" \" \"                      \" \"            \" \"                  \n",
       "7  ( 1 ) \"*\" \" \"                      \" \"            \" \"                  \n",
       "8  ( 1 ) \"*\" \" \"                      \" \"            \" \"                  \n",
       "         categoryFilm & Animation categoryGadgets & Games categoryHowto & DIY\n",
       "1  ( 1 ) \" \"                      \" \"                     \" \"                \n",
       "2  ( 1 ) \" \"                      \" \"                     \" \"                \n",
       "3  ( 1 ) \" \"                      \" \"                     \" \"                \n",
       "4  ( 1 ) \" \"                      \" \"                     \" \"                \n",
       "5  ( 1 ) \" \"                      \" \"                     \" \"                \n",
       "6  ( 1 ) \"*\"                      \" \"                     \" \"                \n",
       "7  ( 1 ) \"*\"                      \"*\"                     \" \"                \n",
       "8  ( 1 ) \"*\"                      \"*\"                     \" \"                \n",
       "         categoryMusic categoryNews & Politics categoryPeople & Blogs\n",
       "1  ( 1 ) \" \"           \" \"                     \" \"                   \n",
       "2  ( 1 ) \" \"           \" \"                     \" \"                   \n",
       "3  ( 1 ) \" \"           \" \"                     \" \"                   \n",
       "4  ( 1 ) \" \"           \" \"                     \" \"                   \n",
       "5  ( 1 ) \" \"           \" \"                     \" \"                   \n",
       "6  ( 1 ) \" \"           \" \"                     \" \"                   \n",
       "7  ( 1 ) \" \"           \" \"                     \" \"                   \n",
       "8  ( 1 ) \" \"           \"*\"                     \" \"                   \n",
       "         categoryPets & Animals categorySports categoryTravel & Places length\n",
       "1  ( 1 ) \" \"                    \" \"            \" \"                     \" \"   \n",
       "2  ( 1 ) \" \"                    \" \"            \" \"                     \" \"   \n",
       "3  ( 1 ) \" \"                    \" \"            \" \"                     \" \"   \n",
       "4  ( 1 ) \" \"                    \" \"            \" \"                     \"*\"   \n",
       "5  ( 1 ) \" \"                    \" \"            \" \"                     \"*\"   \n",
       "6  ( 1 ) \" \"                    \" \"            \" \"                     \"*\"   \n",
       "7  ( 1 ) \" \"                    \" \"            \" \"                     \"*\"   \n",
       "8  ( 1 ) \" \"                    \" \"            \" \"                     \"*\"   \n",
       "         rate ratings comments\n",
       "1  ( 1 ) \" \"  \"*\"     \" \"     \n",
       "2  ( 1 ) \" \"  \"*\"     \" \"     \n",
       "3  ( 1 ) \" \"  \"*\"     \"*\"     \n",
       "4  ( 1 ) \" \"  \"*\"     \"*\"     \n",
       "5  ( 1 ) \"*\"  \"*\"     \"*\"     \n",
       "6  ( 1 ) \"*\"  \"*\"     \"*\"     \n",
       "7  ( 1 ) \"*\"  \"*\"     \"*\"     \n",
       "8  ( 1 ) \"*\"  \"*\"     \"*\"     "
      ]
     },
     "metadata": {},
     "output_type": "display_data"
    }
   ],
   "source": [
    "# Find the best model for each size\n",
    "bestmod <- regsubsets(views~.,data2007,method='exhaustive')\n",
    "summary(bestmod)"
   ]
  },
  {
   "cell_type": "markdown",
   "id": "b789e01e-7680-4fe2-b834-b42e45f5a190",
   "metadata": {},
   "source": [
    "Looking at the selection algorithm, variables like `age`. `ratings`, and `comments` appear in most subsets. On the other hand, `category` did not appear consistently in the subsets, while `length` and `rate` were present in half of the displayed subsets."
   ]
  },
  {
   "cell_type": "code",
   "execution_count": 24,
   "id": "c1a7bbc3-b37e-40cc-ac58-ca068254ddf8",
   "metadata": {},
   "outputs": [
    {
     "data": {
      "image/png": "[encoded data removed]",
      "text/plain": [
       "plot without title"
      ]
     },
     "metadata": {
      "image/png": {
       "height": 420,
       "width": 420
      }
     },
     "output_type": "display_data"
    }
   ],
   "source": [
    "# Looking at some of the metrics\n",
    "mydat <- as.data.frame(cbind(\"BIC\" = summary(bestmod)$bic, 'AdjustedR2'= summary(bestmod)$adjr2, 'Size' = 1:8))\n",
    "pivot_longer(mydat,-Size)|> \n",
    "    ggplot(aes(value,Size,color=name)) +\n",
    "    geom_line() +\n",
    "    coord_flip() +\n",
    "    facet_wrap(~name, scales ='free',strip.position='bottom')+\n",
    "    xlab(\"\") + labs(colour='Metrics')"
   ]
  },
  {
   "cell_type": "markdown",
   "id": "7a275513-eb4f-4e1d-b3c6-af49fc160ee1",
   "metadata": {},
   "source": [
    "**Figure 4:** Plot of the adjusted $R^2$ and BIC values against the size of the models\n",
    "\n",
    "A well-fitted model would have a high adjusted $R^2$ and low BIC values, but these metrics are not particularly prioritized because our end goal is prediction, so we rather prioritize reducing RMSE. However, this figure suggests a large model would fit well with the data."
   ]
  },
  {
   "cell_type": "markdown",
   "id": "92fe537e-ade1-460a-9041-33b209fc2ea0",
   "metadata": {},
   "source": [
    "### Analysis"
   ]
  },
  {
   "cell_type": "markdown",
   "id": "40e82b55-3adc-403b-9ff9-d92d79d19544",
   "metadata": {},
   "source": [
    "We choose to use 2 explanatory variables: `age` and `ratings` to predict our response variable. While having a larger model would fit our data better, we hope that minimizing the number of explanatory variables will reduce RMSE."
   ]
  },
  {
   "cell_type": "code",
   "execution_count": 82,
   "id": "877d77ab-67c8-488e-b6e9-4d91d1234350",
   "metadata": {},
   "outputs": [],
   "source": [
    "# Selecting variables for reduced model\n",
    "datareduced <- data2007 |>  select(c(views,age,ratings,comments))"
   ]
  },
  {
   "cell_type": "code",
   "execution_count": 86,
   "id": "4f7ef02b-b079-44cf-b643-00fe22dd37d9",
   "metadata": {},
   "outputs": [
    {
     "data": {
      "text/plain": [
       "══ Workflow [trained] ══════════════════════════════════════════════════════════════════════════════════════════════════\n",
       "\u001b[3mPreprocessor:\u001b[23m Recipe\n",
       "\u001b[3mModel:\u001b[23m linear_reg()\n",
       "\n",
       "── Preprocessor ────────────────────────────────────────────────────────────────────────────────────────────────────────\n",
       "0 Recipe Steps\n",
       "\n",
       "── Model ───────────────────────────────────────────────────────────────────────────────────────────────────────────────\n",
       "\n",
       "Call:\n",
       "stats::lm(formula = ..y ~ ., data = data)\n",
       "\n",
       "Coefficients:\n",
       "(Intercept)          age      ratings     comments  \n",
       "   14148.62       -18.31       217.29        82.30  \n"
      ]
     },
     "metadata": {},
     "output_type": "display_data"
    }
   ],
   "source": [
    "# Split data into training and testing set\n",
    "split <- initial_split(datareduced, prop = 3/4, strata = views)\n",
    "train <- training(split)\n",
    "test <- testing(split)\n",
    "\n",
    "# Fit the regression model\n",
    "lm_spec <- linear_reg() |> set_engine('lm') |> set_mode('regression')\n",
    "\n",
    "lm_recipe <- recipe(views~., data = train)\n",
    "\n",
    "lm_fit <- workflow() |> add_recipe(lm_recipe) |> add_model(lm_spec) |> fit(data = train)\n",
    "\n",
    "lm_fit"
   ]
  },
  {
   "cell_type": "markdown",
   "id": "a219cdf7-4caf-4bea-ba28-d2d477feff22",
   "metadata": {},
   "source": [
    "Although there is a low p-value for the coefficients, the adjusted R-squared value is not particularly high and an extremely high standard error."
   ]
  },
  {
   "cell_type": "code",
   "execution_count": 84,
   "id": "ffb29a51-8af0-45e8-b4d3-25e9afafdb02",
   "metadata": {},
   "outputs": [
    {
     "data": {
      "text/html": [
       "<table class=\"dataframe\">\n",
       "<caption>A tibble: 3 × 3</caption>\n",
       "<thead>\n",
       "\t<tr><th scope=col>.metric</th><th scope=col>.estimator</th><th scope=col>.estimate</th></tr>\n",
       "\t<tr><th scope=col>&lt;chr&gt;</th><th scope=col>&lt;chr&gt;</th><th scope=col>&lt;dbl&gt;</th></tr>\n",
       "</thead>\n",
       "<tbody>\n",
       "\t<tr><td>rmse</td><td>standard</td><td>1.484785e+04</td></tr>\n",
       "\t<tr><td>rsq </td><td>standard</td><td>3.775339e-01</td></tr>\n",
       "\t<tr><td>mae </td><td>standard</td><td>4.754507e+03</td></tr>\n",
       "</tbody>\n",
       "</table>\n"
      ],
      "text/latex": [
       "A tibble: 3 × 3\n",
       "\\begin{tabular}{lll}\n",
       " .metric & .estimator & .estimate\\\\\n",
       " <chr> & <chr> & <dbl>\\\\\n",
       "\\hline\n",
       "\t rmse & standard & 1.484785e+04\\\\\n",
       "\t rsq  & standard & 3.775339e-01\\\\\n",
       "\t mae  & standard & 4.754507e+03\\\\\n",
       "\\end{tabular}\n"
      ],
      "text/markdown": [
       "\n",
       "A tibble: 3 × 3\n",
       "\n",
       "| .metric &lt;chr&gt; | .estimator &lt;chr&gt; | .estimate &lt;dbl&gt; |\n",
       "|---|---|---|\n",
       "| rmse | standard | 1.484785e+04 |\n",
       "| rsq  | standard | 3.775339e-01 |\n",
       "| mae  | standard | 4.754507e+03 |\n",
       "\n"
      ],
      "text/plain": [
       "  .metric .estimator .estimate   \n",
       "1 rmse    standard   1.484785e+04\n",
       "2 rsq     standard   3.775339e-01\n",
       "3 mae     standard   4.754507e+03"
      ]
     },
     "metadata": {},
     "output_type": "display_data"
    }
   ],
   "source": [
    "# Lets look at how well our model performed\n",
    "lm_test_results <- lm_fit |> predict(test) |> bind_cols(test) |> metrics(truth = views, estimate = .pred)\n",
    "\n",
    "lm_test_results"
   ]
  },
  {
   "cell_type": "markdown",
   "id": "6c5c0d7a-03af-4c8f-9a75-18f345e628a9",
   "metadata": {},
   "source": [
    "It seems like the residual mean squared error is still enormously high, but the RMSE is smaller than that of the full model."
   ]
  },
  {
   "cell_type": "code",
   "execution_count": 90,
   "id": "04969a22-71e0-460b-beee-ffae51756579",
   "metadata": {},
   "outputs": [
    {
     "data": {
      "text/html": [
       "<table class=\"dataframe\">\n",
       "<caption>A data.frame: 6 × 2</caption>\n",
       "<thead>\n",
       "\t<tr><th></th><th scope=col>Actual</th><th scope=col>.pred</th></tr>\n",
       "\t<tr><th></th><th scope=col>&lt;int&gt;</th><th scope=col>&lt;dbl&gt;</th></tr>\n",
       "</thead>\n",
       "<tbody>\n",
       "\t<tr><th scope=row>1</th><td> 57280</td><td> 818177.3</td></tr>\n",
       "\t<tr><th scope=row>2</th><td>948718</td><td>2457764.3</td></tr>\n",
       "\t<tr><th scope=row>3</th><td> 64212</td><td> 325379.5</td></tr>\n",
       "\t<tr><th scope=row>4</th><td> 19193</td><td> 314099.5</td></tr>\n",
       "\t<tr><th scope=row>5</th><td>   548</td><td> 217027.7</td></tr>\n",
       "\t<tr><th scope=row>6</th><td> 27810</td><td> 146577.5</td></tr>\n",
       "</tbody>\n",
       "</table>\n"
      ],
      "text/latex": [
       "A data.frame: 6 × 2\n",
       "\\begin{tabular}{r|ll}\n",
       "  & Actual & .pred\\\\\n",
       "  & <int> & <dbl>\\\\\n",
       "\\hline\n",
       "\t1 &  57280 &  818177.3\\\\\n",
       "\t2 & 948718 & 2457764.3\\\\\n",
       "\t3 &  64212 &  325379.5\\\\\n",
       "\t4 &  19193 &  314099.5\\\\\n",
       "\t5 &    548 &  217027.7\\\\\n",
       "\t6 &  27810 &  146577.5\\\\\n",
       "\\end{tabular}\n"
      ],
      "text/markdown": [
       "\n",
       "A data.frame: 6 × 2\n",
       "\n",
       "| <!--/--> | Actual &lt;int&gt; | .pred &lt;dbl&gt; |\n",
       "|---|---|---|\n",
       "| 1 |  57280 |  818177.3 |\n",
       "| 2 | 948718 | 2457764.3 |\n",
       "| 3 |  64212 |  325379.5 |\n",
       "| 4 |  19193 |  314099.5 |\n",
       "| 5 |    548 |  217027.7 |\n",
       "| 6 |  27810 |  146577.5 |\n",
       "\n"
      ],
      "text/plain": [
       "  Actual .pred    \n",
       "1  57280  818177.3\n",
       "2 948718 2457764.3\n",
       "3  64212  325379.5\n",
       "4  19193  314099.5\n",
       "5    548  217027.7\n",
       "6  27810  146577.5"
      ]
     },
     "metadata": {},
     "output_type": "display_data"
    }
   ],
   "source": [
    "# Lets see if our model can predict the 2008 values well\n",
    "data2008reduced <- data2008 |> select(c(age,ratings,comments))\n",
    "predict2008 <- predict(lm_fit,data2008reduced)\n",
    "head(cbind('Actual' = data2008$views,'Predicted' = predict2008))"
   ]
  },
  {
   "cell_type": "markdown",
   "id": "f87d2367-b78f-44f6-a6f3-4a09e386a29f",
   "metadata": {},
   "source": [
    "Our predicted values are several times higher than the actual 2008 values. \n",
    "\n",
    "There could be many reasons for why the predicted values are significantly higher. Youtube videos being uploaded earlier is not necessary for a video to be popular. We know now based on market research that the first 48 hours of a Youtube video being uploaded is the most important. If a video has 0 views, Youtube will stop displaying the video as it does not drive traffic towards their website. If a video can make it past the 48 hours with some amount of views, it is possible to see an increase in views over the span of 3 to 6 months (Clark, 2019). Meaning that if a video does not get any views, it will likely not get any views in the future either. This would slightly impact our data analysis as there are many more videos that do not get any views than videos that do get views. Making our error values much higher than what we had assumed. \n",
    "\n",
    "A way in which to improve our model would be removing certain outliers of the videos that get zero to ten views, but not the upper end of videos with millions of views. The reason we would get rid of the lower view count videos is because while this is a fairly large portion of our dataset, since these videos do not get any meaningful information out of them, removing them would be better for our model. We would keep the upper end of videos as theses videos would be a good reference point for many others who want to have a video get popular on Youtube, and represent what quantitative goals people should strive for when trying to make videos."
   ]
  },
  {
   "cell_type": "markdown",
   "id": "98edf079-068a-4d4d-8609-4e66381b2976",
   "metadata": {},
   "source": [
    "### Future Questions\n",
    "\n",
    "A future question this type of analysis would ultimately lead to would be something like \"What is the number 1 influence over the number of views in a video?\" The current trend on Youtube is for the Youtuber to say to \"like\" the video, which would impact the rating category, or to leave a comment, which would increase the comment count. But short videos tend to better than long videos, and songs do better than videos that are seconds long (Macmanus, R). So what's the best way to break out into the Youtube scene?\n",
    "\n",
    "“From 2006 to 2009, most channels fall into the Music category, reaching a high in 2009 when more than 20% of all created channels would upload mainly Music videos. Entertainment, People & Blogs and Education were also continuously popular among creators during these years. However, from 2010 onwards, the majority of newly created channels were People & Blogs, coming close to 75% in 2016. Gaming started to be the second most channel category in 2012 and has remained in that place ever since.” (Bärtl, 2018)"
   ]
  },
  {
   "cell_type": "markdown",
   "id": "8d99a116-17ba-4c31-bf5f-47a1e2d3b03d",
   "metadata": {},
   "source": [
    "### Citations"
   ]
  },
  {
   "cell_type": "markdown",
   "id": "b18b5989-53b0-4281-9f27-f7176a9d0437",
   "metadata": {},
   "source": [
    "Zhou, R., Khemmarat, S., Gao, L., Wan, J., & Zhang, J. (2016). How YouTube videos are discovered and its impact on video views. Multimedia Tools and Applications, 75, 6035-6058.\n",
    "Clark, D. (2019). How long does it take for a YouTube video to get views? How to get more views and subscribers on YouTube. from https://www.socialvideoplaza.com/en/articles/how-long-before-youtube-video-gets-views \n",
    "Bärtl, M. (2018). YouTube channels, uploads and views: A statistical analysis of the past 10 \tyears. Convergence, 24(1), 16-32.\n",
    "Macmanus, R. (2018, October 01). Top 10 youtube videos of All Time, 2008 edition. Retrieved February 19, 2023, from https://readwrite.com/top_10_youtube_videos_of_all_time_2008/\n",
    "\n"
   ]
  },
  {
   "cell_type": "code",
   "execution_count": null,
   "id": "57495ca4-85dc-4cd0-8b0a-1bdf42cb6a7d",
   "metadata": {},
   "outputs": [],
   "source": []
  }
 ],
 "metadata": {
  "kernelspec": {
   "display_name": "R",
   "language": "R",
   "name": "ir"
  },
  "language_info": {
   "codemirror_mode": "r",
   "file_extension": ".r",
   "mimetype": "text/x-r-source",
   "name": "R",
   "pygments_lexer": "r",
   "version": "4.2.2"
  }
 },
 "nbformat": 4,
 "nbformat_minor": 5
}
